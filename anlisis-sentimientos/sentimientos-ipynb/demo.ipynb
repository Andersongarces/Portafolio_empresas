{
 "cells": [
  {
   "cell_type": "code",
   "execution_count": 7,
   "metadata": {},
   "outputs": [],
   "source": [
    "from textblob import TextBlob\n",
    "from googletrans import Translator\n",
    "from nltk.sentiment.vader import SentimentIntensityAnalyzer\n",
    "import pandas as pd"
   ]
  },
  {
   "cell_type": "code",
   "execution_count": 11,
   "metadata": {},
   "outputs": [
    {
     "ename": "NameError",
     "evalue": "name 'analizar_sentimiento_textblob' is not defined",
     "output_type": "error",
     "traceback": [
      "\u001b[0;31m---------------------------------------------------------------------------\u001b[0m",
      "\u001b[0;31mNameError\u001b[0m                                 Traceback (most recent call last)",
      "Cell \u001b[0;32mIn[11], line 39\u001b[0m\n\u001b[1;32m     36\u001b[0m comentario_ingles \u001b[38;5;241m=\u001b[39m translator\u001b[38;5;241m.\u001b[39mtranslate(comentario, src\u001b[38;5;241m=\u001b[39m\u001b[38;5;124m'\u001b[39m\u001b[38;5;124mes\u001b[39m\u001b[38;5;124m'\u001b[39m, dest\u001b[38;5;241m=\u001b[39m\u001b[38;5;124m'\u001b[39m\u001b[38;5;124men\u001b[39m\u001b[38;5;124m'\u001b[39m)\u001b[38;5;241m.\u001b[39mtext\n\u001b[1;32m     38\u001b[0m \u001b[38;5;66;03m# Analizar sentimientos con TextBlob\u001b[39;00m\n\u001b[0;32m---> 39\u001b[0m sentimiento_textblob, confianza_textblob \u001b[38;5;241m=\u001b[39m \u001b[43manalizar_sentimiento_textblob\u001b[49m(comentario_ingles)\n\u001b[1;32m     40\u001b[0m resultados_textblob\u001b[38;5;241m.\u001b[39mappend((comentario, sentimiento_textblob, confianza_textblob))\n\u001b[1;32m     42\u001b[0m \u001b[38;5;66;03m# Analizar sentimientos con VADER\u001b[39;00m\n",
      "\u001b[0;31mNameError\u001b[0m: name 'analizar_sentimiento_textblob' is not defined"
     ]
    }
   ],
   "source": [
    "# Comentarios ficticios sobre reseñas de un libro\n",
    "comentarios = [\n",
    "    \"Me encantó este libro, fue inspirador y emocionante de principio a fin.\",\n",
    "    \"No pude dejar de leerlo, cada página era más intrigante que la anterior.\",\n",
    "    \"El desarrollo de los personajes fue impresionante, realmente sentí que los conocía.\",\n",
    "    \"La trama era predecible y el final fue decepcionante.\",\n",
    "    \"No conecté con los personajes, me resultaron poco realistas.\",\n",
    "    \"Este libro me dejó pensando durante días, realmente me hizo reflexionar sobre la vida.\",\n",
    "    \"La escritura era hermosa y poética, cada palabra estaba cuidadosamente elegida.\",\n",
    "    \"No recomendaría este libro a nadie, no vale la pena el tiempo de lectura.\",\n",
    "    \"No puedo esperar para leer más del autor, definitivamente me ha ganado como fan.\",\n",
    "    \"La historia me atrapó desde la primera página, no podía ponerlo en espera.\",\n",
    "    \"No puedo entender por qué este libro recibió tantas críticas positivas, no lo encontré interesante en absoluto.\",\n",
    "    \"Me sentí completamente absorbido por la narrativa, fue como si estuviera viviendo la historia.\",\n",
    "    \"La prosa era confusa y difícil de seguir, tuve que volver a leer varias veces para entender lo que estaba pasando.\",\n",
    "    \"Fue una lectura ligera y entretenida, perfecta para relajarse en un día lluvioso.\",\n",
    "    \"La trama era original y refrescante, no había leído nada parecido antes.\",\n",
    "    \"Los diálogos eran realistas y convincentes, realmente sentí que estaba escuchando a personas reales hablar.\",\n",
    "    \"Este libro superó mis expectativas, definitivamente lo recomendaría a cualquiera que esté buscando una buena lectura.\",\n",
    "    \"No puedo expresar lo mucho que disfruté este libro, me hizo reír y llorar en igual medida.\",\n",
    "    \"Fue una montaña rusa emocional, nunca sabía qué esperar a continuación.\",\n",
    "    \"Los personajes secundarios eran tan interesantes como los protagonistas, cada uno tenía su propia historia convincente.\"\n",
    "]\n",
    "\n",
    "# Crear un objeto Translator\n",
    "translator = Translator()\n",
    "# Lista para almacenar resultados del análisis de sentimientos con TextBlob\n",
    "resultados_textblob = []\n",
    "\n",
    "# Lista para almacenar resultados del análisis de sentimientos con VADER\n",
    "resultados_vader = []\n",
    "\n",
    "# Traducir cada comentario al inglés, luego analizar sentimientos con TextBlob y VADER\n",
    "for comentario in comentarios:\n",
    "    # Traducir el comentario al inglés\n",
    "    comentario_ingles = translator.translate(comentario, src='es', dest='en').text\n",
    "    \n",
    "    # Analizar sentimientos con TextBlob\n",
    "    sentimiento_textblob, confianza_textblob = analizar_sentimiento_textblob(comentario_ingles)\n",
    "    resultados_textblob.append((comentario, sentimiento_textblob, confianza_textblob))\n",
    "    \n",
    "    # Analizar sentimientos con VADER\n",
    "    sentimiento_vader = analizar_sentimiento_vader(comentario_ingles)\n",
    "    resultados_vader.append((comentario, sentimiento_vader))\n",
    "\n",
    "# Función para realizar el análisis de sentimientos con TextBlob y devolver un porcentaje de confianza\n",
    "def analizar_sentimiento_textblob(comentario):\n",
    "    blob = TextBlob(comentario)\n",
    "    polaridad = blob.sentiment.polarity\n",
    "    subjetividad = blob.sentiment.subjectivity\n",
    "    \n",
    "    # Calcular la confianza como el valor absoluto de la polaridad + subjetividad\n",
    "    confianza = abs(polaridad) + subjetividad\n",
    "    \n",
    "    if polaridad > 0:\n",
    "        return \"Positivo\", confianza\n",
    "    elif polaridad < 0:\n",
    "        return \"Negativo\", confianza\n",
    "    else:\n",
    "        return \"Neutral\", confianza\n",
    "\n",
    "# Función para realizar el análisis de sentimientos con VADER\n",
    "def analizar_sentimiento_vader(comentario):\n",
    "    polaridad = sid.polarity_scores(comentario)['compound']\n",
    "    if polaridad > 0:\n",
    "        return \"Positivo\"\n",
    "    elif polaridad < 0:\n",
    "        return \"Negativo\"\n",
    "    else:\n",
    "        return \"Neutral\"\n",
    "\n",
    "# Crear DataFrames para los resultados\n",
    "df_textblob = pd.DataFrame(resultados_textblob, columns=['Comentario', 'Sentimiento TextBlob', 'Confianza TextBlob'])\n",
    "df_vader = pd.DataFrame(resultados_vader, columns=['Comentario', 'Sentimiento VADER'])\n",
    "\n",
    "# Mostrar los resultados\n",
    "print(\"Resultados del análisis de sentimientos con TextBlob:\")\n",
    "print(df_textblob)\n",
    "print(\"\\nResultados del análisis de sentimientos con VADER:\")\n",
    "print(df_vader)"
   ]
  }
 ],
 "metadata": {
  "kernelspec": {
   "display_name": "Python 3",
   "language": "python",
   "name": "python3"
  },
  "language_info": {
   "codemirror_mode": {
    "name": "ipython",
    "version": 3
   },
   "file_extension": ".py",
   "mimetype": "text/x-python",
   "name": "python",
   "nbconvert_exporter": "python",
   "pygments_lexer": "ipython3",
   "version": "3.11.7"
  }
 },
 "nbformat": 4,
 "nbformat_minor": 2
}
