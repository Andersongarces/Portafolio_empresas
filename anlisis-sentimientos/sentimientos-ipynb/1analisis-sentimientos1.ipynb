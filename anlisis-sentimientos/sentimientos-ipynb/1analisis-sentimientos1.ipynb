{
 "cells": [
  {
   "cell_type": "code",
   "execution_count": 1,
   "metadata": {},
   "outputs": [],
   "source": [
    "from textblob import TextBlob\n",
    "from googletrans import Translator"
   ]
  },
  {
   "cell_type": "code",
   "execution_count": 2,
   "metadata": {},
   "outputs": [
    {
     "data": {
      "text/plain": [
       "Sentiment(polarity=0.0, subjectivity=0.0)"
      ]
     },
     "execution_count": 2,
     "metadata": {},
     "output_type": "execute_result"
    }
   ],
   "source": [
    "TextBlob('Amo este libro, es el mejor').sentiment"
   ]
  },
  {
   "cell_type": "code",
   "execution_count": 3,
   "metadata": {},
   "outputs": [
    {
     "data": {
      "text/plain": [
       "Sentiment(polarity=0.75, subjectivity=0.44999999999999996)"
      ]
     },
     "execution_count": 3,
     "metadata": {},
     "output_type": "execute_result"
    }
   ],
   "source": [
    "TextBlob('I love this book, is the best').sentiment "
   ]
  },
  {
   "cell_type": "code",
   "execution_count": 5,
   "metadata": {},
   "outputs": [
    {
     "data": {
      "text/plain": [
       "Sentiment(polarity=-0.4, subjectivity=0.6)"
      ]
     },
     "execution_count": 5,
     "metadata": {},
     "output_type": "execute_result"
    }
   ],
   "source": [
    "# Crear un objeto Translator\n",
    "translator = Translator()\n",
    "\n",
    "# Texto en español que queremos analizar\n",
    "texto = \"La trama era predecible y el final fue decepcionante\"\n",
    "\n",
    "# Traducir el texto al inglés\n",
    "texto_ingles = translator.translate(texto, src='es', dest='en').text\n",
    "\n",
    "# Crear un objeto TextBlob con el texto traducido\n",
    "blob = TextBlob(texto_ingles)\n",
    "\n",
    "# Imprimir el sentimiento del texto traducido\n",
    "blob.sentiment\n"
   ]
  },
  {
   "cell_type": "markdown",
   "metadata": {},
   "source": [
    "Es posible que el resultado del análisis de sentimientos muestre una polaridad y subjetividad de 0.0 si el texto analizado es neutral y objetivo. Aquí tienes una explicación de los valores que devuelve el método `sentiment` de TextBlob:\n",
    "\n",
    "- Polaridad: Es un valor numérico que indica la positividad o negatividad del texto. Un valor de 0.0 indica neutralidad, valores mayores que 0.0 indican positividad y valores menores que 0.0 indican negatividad.\n",
    "- Subjetividad: Es un valor numérico que indica la subjetividad del texto, es decir, si el texto es objetivo o subjetivo. Un valor de 0.0 indica objetividad (hechos objetivos) y un valor de 1.0 indica subjetividad total (opiniones personales).\n",
    "\n",
    "En tu caso, al obtener una polaridad y subjetividad de 0.0, significa que el texto es neutro y objetivo, no contiene opiniones o emociones claramente positivas o negativas. Es importante recordar que estos resultados son solo una representación del análisis de sentimientos y pueden variar dependiendo del contexto y la complejidad del texto analizado. Si consideras que el texto debería tener una polaridad y subjetividad diferentes, podrías revisar el texto nuevamente o utilizar otras técnicas de análisis de sentimientos para obtener resultados más precisos."
   ]
  },
  {
   "cell_type": "code",
   "execution_count": 23,
   "metadata": {},
   "outputs": [
    {
     "name": "stdout",
     "output_type": "stream",
     "text": [
      "                                          Comentario Sentimiento\n",
      "0  La trama era predecible y el final fue decepci...    Negativo\n",
      "1  Me encantó este libro, fue inspirador y emocio...    Positivo\n",
      "2  No puedo esperar para leer más del autor, defi...    Positivo\n",
      "3  No conecté con los personajes, me resultaron p...    Negativo\n",
      "4  Fue una montaña rusa emocional, nunca sabía qu...     Neutral\n",
      "5  La escritura era hermosa y poética, cada palab...    Positivo\n",
      "6  No puedo expresar lo mucho que disfruté este l...    Positivo\n",
      "7  Este libro superó mis expectativas, definitiva...    Positivo\n",
      "8  Los personajes secundarios eran tan interesant...    Positivo\n",
      "9  No recomendaría este libro a nadie, no vale la...    Negativo\n"
     ]
    }
   ],
   "source": [
    "import pandas as pd\n",
    "\n",
    "# Crear un objeto Translator\n",
    "translator = Translator()\n",
    "\n",
    "# Lista de comentarios en español\n",
    "comentarios_espanol = [\n",
    "    \"La trama era predecible y el final fue decepcionante\",\n",
    "    \"Me encantó este libro, fue inspirador y emocionante de principio a fin\",\n",
    "    \"No puedo esperar para leer más del autor, definitivamente me ha ganado como fan\",\n",
    "    \"No conecté con los personajes, me resultaron poco realistas\",\n",
    "    \"Fue una montaña rusa emocional, nunca sabía qué esperar a continuación\",\n",
    "    \"La escritura era hermosa y poética, cada palabra estaba cuidadosamente elegida\",\n",
    "    \"No puedo expresar lo mucho que disfruté este libro, me hizo reír y llorar en igual medida\",\n",
    "    \"Este libro superó mis expectativas, definitivamente lo recomendaría a cualquiera que esté buscando una buena lectura\",\n",
    "    \"Los personajes secundarios eran tan interesantes como los protagonistas, cada uno tenía su propia historia convincente\",\n",
    "    \"No recomendaría este libro a nadie, no vale la pena el tiempo de lectura\"\n",
    "]\n",
    "\n",
    "# Traducir los comentarios al inglés y obtener su sentimiento\n",
    "comentarios_ingles = [translator.translate(comment, src='es', dest='en').text for comment in comentarios_espanol]\n",
    "sentimientos = [TextBlob(comment).sentiment.polarity for comment in comentarios_ingles]\n",
    "\n",
    "# Clasificar los comentarios según su sentimiento\n",
    "categorias = []\n",
    "\n",
    "for s in sentimientos:\n",
    "    if s < 0:\n",
    "        categorias.append('Negativo')\n",
    "    elif s > 0:\n",
    "        categorias.append('Positivo')\n",
    "    else:\n",
    "        categorias.append('Neutral')\n",
    "\n",
    "\n",
    "# Crear DataFrame\n",
    "df_comentarios = pd.DataFrame({'Comentario': comentarios_espanol, 'Sentimiento': categorias})\n",
    "\n",
    "# Mostrar DataFrame\n",
    "print(df_comentarios)\n"
   ]
  },
  {
   "cell_type": "code",
   "execution_count": 70,
   "metadata": {},
   "outputs": [
    {
     "data": {
      "text/html": [
       "<div>\n",
       "<style scoped>\n",
       "    .dataframe tbody tr th:only-of-type {\n",
       "        vertical-align: middle;\n",
       "    }\n",
       "\n",
       "    .dataframe tbody tr th {\n",
       "        vertical-align: top;\n",
       "    }\n",
       "\n",
       "    .dataframe thead th {\n",
       "        text-align: right;\n",
       "    }\n",
       "</style>\n",
       "<table border=\"1\" class=\"dataframe\">\n",
       "  <thead>\n",
       "    <tr style=\"text-align: right;\">\n",
       "      <th></th>\n",
       "      <th>Comentario</th>\n",
       "      <th>Sentimiento</th>\n",
       "    </tr>\n",
       "  </thead>\n",
       "  <tbody>\n",
       "    <tr>\n",
       "      <th>0</th>\n",
       "      <td>La trama era predecible y el final fue decepci...</td>\n",
       "      <td>Negativo</td>\n",
       "    </tr>\n",
       "    <tr>\n",
       "      <th>1</th>\n",
       "      <td>Me encantó este libro, fue inspirador y emocio...</td>\n",
       "      <td>Positivo</td>\n",
       "    </tr>\n",
       "    <tr>\n",
       "      <th>2</th>\n",
       "      <td>No puedo esperar para leer más del autor, defi...</td>\n",
       "      <td>Positivo</td>\n",
       "    </tr>\n",
       "    <tr>\n",
       "      <th>3</th>\n",
       "      <td>No conecté con los personajes, me resultaron p...</td>\n",
       "      <td>Negativo</td>\n",
       "    </tr>\n",
       "    <tr>\n",
       "      <th>4</th>\n",
       "      <td>Fue una montaña rusa emocional, nunca sabía qu...</td>\n",
       "      <td>Neutral</td>\n",
       "    </tr>\n",
       "  </tbody>\n",
       "</table>\n",
       "</div>"
      ],
      "text/plain": [
       "                                          Comentario Sentimiento\n",
       "0  La trama era predecible y el final fue decepci...    Negativo\n",
       "1  Me encantó este libro, fue inspirador y emocio...    Positivo\n",
       "2  No puedo esperar para leer más del autor, defi...    Positivo\n",
       "3  No conecté con los personajes, me resultaron p...    Negativo\n",
       "4  Fue una montaña rusa emocional, nunca sabía qu...     Neutral"
      ]
     },
     "execution_count": 70,
     "metadata": {},
     "output_type": "execute_result"
    }
   ],
   "source": [
    "df_comentarios.head()"
   ]
  },
  {
   "cell_type": "code",
   "execution_count": 47,
   "metadata": {},
   "outputs": [],
   "source": [
    "import matplotlib.pyplot as plt"
   ]
  },
  {
   "cell_type": "code",
   "execution_count": 64,
   "metadata": {},
   "outputs": [
    {
     "data": {
      "text/plain": [
       "Sentimiento\n",
       "Positivo    0.6\n",
       "Negativo    0.3\n",
       "Neutral     0.1\n",
       "Name: count, dtype: float64"
      ]
     },
     "execution_count": 64,
     "metadata": {},
     "output_type": "execute_result"
    }
   ],
   "source": [
    "total_sentimientos = df_comentarios['Sentimiento'].value_counts()/df_comentarios.shape[0]\n",
    "total_sentimientos"
   ]
  },
  {
   "cell_type": "code",
   "execution_count": 69,
   "metadata": {},
   "outputs": [
    {
     "data": {
      "image/png": "[encoded data removed]",
      "text/plain": [
       "<Figure size 800x500 with 1 Axes>"
      ]
     },
     "metadata": {},
     "output_type": "display_data"
    }
   ],
   "source": [
    "\n",
    "total_sentimientos = df_comentarios['Sentimiento'].value_counts()/df_comentarios.shape[0]\n",
    "\n",
    "plt.figure(figsize=(8, 5))\n",
    "total_sentimientos.plot(kind='barh', color = \"y\")\n",
    "plt.title(\"Estado de sentimientos\")\n",
    "plt.xlabel(\"Frecuencia\")\n",
    "plt.ylabel(\"Sentimientos\")\n",
    "plt.xticks(rotation=0)\n",
    "plt.show()"
   ]
  },
  {
   "cell_type": "code",
   "execution_count": 43,
   "metadata": {},
   "outputs": [
    {
     "name": "stdout",
     "output_type": "stream",
     "text": [
      "  sentimiento  Porcentaje\n",
      "0    Positivo        60.0\n",
      "1    Negativo        30.0\n",
      "2     Neutral        10.0\n"
     ]
    }
   ],
   "source": [
    "# Calcular el porcentaje de cada sentimiento\n",
    "porcentaje_sentimientos = df_comentarios['Sentimiento'].value_counts(normalize=True) * 100\n",
    "\n",
    "# Crear un nuevo DataFrame con los resultados\n",
    "df_porcentaje = pd.DataFrame({'sentimiento': porcentaje_sentimientos.index, 'Porcentaje': porcentaje_sentimientos.values})\n",
    "\n",
    "print(df_porcentaje)"
   ]
  },
  {
   "cell_type": "code",
   "execution_count": 31,
   "metadata": {},
   "outputs": [
    {
     "data": {
      "text/html": [
       "<div>\n",
       "<style scoped>\n",
       "    .dataframe tbody tr th:only-of-type {\n",
       "        vertical-align: middle;\n",
       "    }\n",
       "\n",
       "    .dataframe tbody tr th {\n",
       "        vertical-align: top;\n",
       "    }\n",
       "\n",
       "    .dataframe thead th {\n",
       "        text-align: right;\n",
       "    }\n",
       "</style>\n",
       "<table border=\"1\" class=\"dataframe\">\n",
       "  <thead>\n",
       "    <tr style=\"text-align: right;\">\n",
       "      <th></th>\n",
       "      <th>Comentario</th>\n",
       "    </tr>\n",
       "    <tr>\n",
       "      <th>Sentimiento</th>\n",
       "      <th></th>\n",
       "    </tr>\n",
       "  </thead>\n",
       "  <tbody>\n",
       "    <tr>\n",
       "      <th>Negativo</th>\n",
       "      <td>3</td>\n",
       "    </tr>\n",
       "    <tr>\n",
       "      <th>Neutral</th>\n",
       "      <td>1</td>\n",
       "    </tr>\n",
       "    <tr>\n",
       "      <th>Positivo</th>\n",
       "      <td>6</td>\n",
       "    </tr>\n",
       "  </tbody>\n",
       "</table>\n",
       "</div>"
      ],
      "text/plain": [
       "             Comentario\n",
       "Sentimiento            \n",
       "Negativo              3\n",
       "Neutral               1\n",
       "Positivo              6"
      ]
     },
     "execution_count": 31,
     "metadata": {},
     "output_type": "execute_result"
    }
   ],
   "source": [
    "df_comentarios.groupby('Sentimiento').count()"
   ]
  },
  {
   "cell_type": "code",
   "execution_count": 36,
   "metadata": {},
   "outputs": [
    {
     "data": {
      "text/html": [
       "<div>\n",
       "<style scoped>\n",
       "    .dataframe tbody tr th:only-of-type {\n",
       "        vertical-align: middle;\n",
       "    }\n",
       "\n",
       "    .dataframe tbody tr th {\n",
       "        vertical-align: top;\n",
       "    }\n",
       "\n",
       "    .dataframe thead th {\n",
       "        text-align: right;\n",
       "    }\n",
       "</style>\n",
       "<table border=\"1\" class=\"dataframe\">\n",
       "  <thead>\n",
       "    <tr style=\"text-align: right;\">\n",
       "      <th></th>\n",
       "      <th>Comentario</th>\n",
       "    </tr>\n",
       "    <tr>\n",
       "      <th>Sentimiento</th>\n",
       "      <th></th>\n",
       "    </tr>\n",
       "  </thead>\n",
       "  <tbody>\n",
       "    <tr>\n",
       "      <th>Negativo</th>\n",
       "      <td>30.0</td>\n",
       "    </tr>\n",
       "    <tr>\n",
       "      <th>Neutral</th>\n",
       "      <td>10.0</td>\n",
       "    </tr>\n",
       "    <tr>\n",
       "      <th>Positivo</th>\n",
       "      <td>60.0</td>\n",
       "    </tr>\n",
       "  </tbody>\n",
       "</table>\n",
       "</div>"
      ],
      "text/plain": [
       "             Comentario\n",
       "Sentimiento            \n",
       "Negativo           30.0\n",
       "Neutral            10.0\n",
       "Positivo           60.0"
      ]
     },
     "execution_count": 36,
     "metadata": {},
     "output_type": "execute_result"
    }
   ],
   "source": [
    "total_filas = df_comentarios.shape[0]\n",
    "porcentajes = df_comentarios.groupby('Sentimiento').count() / total_filas*100\n",
    "porcentajes"
   ]
  }
 ],
 "metadata": {
  "kernelspec": {
   "display_name": "Python 3",
   "language": "python",
   "name": "python3"
  },
  "language_info": {
   "codemirror_mode": {
    "name": "ipython",
    "version": 3
   },
   "file_extension": ".py",
   "mimetype": "text/x-python",
   "name": "python",
   "nbconvert_exporter": "python",
   "pygments_lexer": "ipython3",
   "version": "3.11.7"
  }
 },
 "nbformat": 4,
 "nbformat_minor": 2
}
