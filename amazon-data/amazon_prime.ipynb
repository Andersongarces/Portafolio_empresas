{
 "cells": [
  {
   "cell_type": "markdown",
   "metadata": {},
   "source": [
    "![Texto alternativo](https://upload.wikimedia.org/wikipedia/commons/f/f1/Prime_Video.png)"
   ]
  },
  {
   "cell_type": "markdown",
   "metadata": {},
   "source": [
    "1. Understanding what content is available in different countries\n",
    "2. Identifying similar content by matching text-based features\n",
    "3. Network analysis of Actors / Directors and find interesting insights\n",
    "4. Does Netflix has more focus on TV Shows than movies in recent years."
   ]
  },
  {
   "cell_type": "code",
   "execution_count": 237,
   "metadata": {},
   "outputs": [
    {
     "data": {
      "text/html": [
       "        <script type=\"text/javascript\">\n",
       "        window.PlotlyConfig = {MathJaxConfig: 'local'};\n",
       "        if (window.MathJax && window.MathJax.Hub && window.MathJax.Hub.Config) {window.MathJax.Hub.Config({SVG: {font: \"STIX-Web\"}});}\n",
       "        if (typeof require !== 'undefined') {\n",
       "        require.undef(\"plotly\");\n",
       "        requirejs.config({\n",
       "            paths: {\n",
       "                'plotly': ['https://cdn.plot.ly/plotly-2.27.0.min']\n",
       "            }\n",
       "        });\n",
       "        require(['plotly'], function(Plotly) {\n",
       "            window._Plotly = Plotly;\n",
       "        });\n",
       "        }\n",
       "        </script>\n",
       "        "
      ]
     },
     "metadata": {},
     "output_type": "display_data"
    }
   ],
   "source": [
    "import pandas as pd\n",
    "import seaborn as sns\n",
    "import cufflinks as cf\n",
    "import matplotlib.pyplot as plt\n",
    "import plotly.express as px\n",
    "from IPython.display import display,HTML\n",
    "cf.set_config_file(sharing='public',theme='white',offline=True) \n",
    "# write cf.getThemes() to find all themes available"
   ]
  },
  {
   "cell_type": "code",
   "execution_count": 238,
   "metadata": {},
   "outputs": [
    {
     "data": {
      "text/plain": [
       "['ggplot', 'pearl', 'solar', 'space', 'white', 'polar', 'henanigans']"
      ]
     },
     "execution_count": 238,
     "metadata": {},
     "output_type": "execute_result"
    }
   ],
   "source": [
    "cf.getThemes() "
   ]
  },
  {
   "cell_type": "code",
   "execution_count": 239,
   "metadata": {},
   "outputs": [
    {
     "data": {
      "text/html": [
       "<div>\n",
       "<style scoped>\n",
       "    .dataframe tbody tr th:only-of-type {\n",
       "        vertical-align: middle;\n",
       "    }\n",
       "\n",
       "    .dataframe tbody tr th {\n",
       "        vertical-align: top;\n",
       "    }\n",
       "\n",
       "    .dataframe thead th {\n",
       "        text-align: right;\n",
       "    }\n",
       "</style>\n",
       "<table border=\"1\" class=\"dataframe\">\n",
       "  <thead>\n",
       "    <tr style=\"text-align: right;\">\n",
       "      <th></th>\n",
       "      <th>show_id</th>\n",
       "      <th>type</th>\n",
       "      <th>title</th>\n",
       "      <th>director</th>\n",
       "      <th>cast</th>\n",
       "      <th>country</th>\n",
       "      <th>date_added</th>\n",
       "      <th>release_year</th>\n",
       "      <th>rating</th>\n",
       "      <th>duration</th>\n",
       "      <th>listed_in</th>\n",
       "      <th>description</th>\n",
       "    </tr>\n",
       "  </thead>\n",
       "  <tbody>\n",
       "    <tr>\n",
       "      <th>0</th>\n",
       "      <td>s1</td>\n",
       "      <td>Movie</td>\n",
       "      <td>The Grand Seduction</td>\n",
       "      <td>Don McKellar</td>\n",
       "      <td>Brendan Gleeson, Taylor Kitsch, Gordon Pinsent</td>\n",
       "      <td>Canada</td>\n",
       "      <td>March 30, 2021</td>\n",
       "      <td>2014</td>\n",
       "      <td>NaN</td>\n",
       "      <td>113 min</td>\n",
       "      <td>Comedy, Drama</td>\n",
       "      <td>A small fishing village must procure a local d...</td>\n",
       "    </tr>\n",
       "    <tr>\n",
       "      <th>1</th>\n",
       "      <td>s2</td>\n",
       "      <td>Movie</td>\n",
       "      <td>Take Care Good Night</td>\n",
       "      <td>Girish Joshi</td>\n",
       "      <td>Mahesh Manjrekar, Abhay Mahajan, Sachin Khedekar</td>\n",
       "      <td>India</td>\n",
       "      <td>March 30, 2021</td>\n",
       "      <td>2018</td>\n",
       "      <td>13+</td>\n",
       "      <td>110 min</td>\n",
       "      <td>Drama, International</td>\n",
       "      <td>A Metro Family decides to fight a Cyber Crimin...</td>\n",
       "    </tr>\n",
       "    <tr>\n",
       "      <th>2</th>\n",
       "      <td>s3</td>\n",
       "      <td>Movie</td>\n",
       "      <td>Secrets of Deception</td>\n",
       "      <td>Josh Webber</td>\n",
       "      <td>Tom Sizemore, Lorenzo Lamas, Robert LaSardo, R...</td>\n",
       "      <td>United States</td>\n",
       "      <td>March 30, 2021</td>\n",
       "      <td>2017</td>\n",
       "      <td>NaN</td>\n",
       "      <td>74 min</td>\n",
       "      <td>Action, Drama, Suspense</td>\n",
       "      <td>After a man discovers his wife is cheating on ...</td>\n",
       "    </tr>\n",
       "    <tr>\n",
       "      <th>3</th>\n",
       "      <td>s4</td>\n",
       "      <td>Movie</td>\n",
       "      <td>Pink: Staying True</td>\n",
       "      <td>Sonia Anderson</td>\n",
       "      <td>Interviews with: Pink, Adele, Beyoncé, Britney...</td>\n",
       "      <td>United States</td>\n",
       "      <td>March 30, 2021</td>\n",
       "      <td>2014</td>\n",
       "      <td>NaN</td>\n",
       "      <td>69 min</td>\n",
       "      <td>Documentary</td>\n",
       "      <td>Pink breaks the mold once again, bringing her ...</td>\n",
       "    </tr>\n",
       "    <tr>\n",
       "      <th>4</th>\n",
       "      <td>s5</td>\n",
       "      <td>Movie</td>\n",
       "      <td>Monster Maker</td>\n",
       "      <td>Giles Foster</td>\n",
       "      <td>Harry Dean Stanton, Kieran O'Brien, George Cos...</td>\n",
       "      <td>United Kingdom</td>\n",
       "      <td>March 30, 2021</td>\n",
       "      <td>1989</td>\n",
       "      <td>NaN</td>\n",
       "      <td>45 min</td>\n",
       "      <td>Drama, Fantasy</td>\n",
       "      <td>Teenage Matt Banting wants to work with a famo...</td>\n",
       "    </tr>\n",
       "  </tbody>\n",
       "</table>\n",
       "</div>"
      ],
      "text/plain": [
       "  show_id   type                 title        director  \\\n",
       "0      s1  Movie   The Grand Seduction    Don McKellar   \n",
       "1      s2  Movie  Take Care Good Night    Girish Joshi   \n",
       "2      s3  Movie  Secrets of Deception     Josh Webber   \n",
       "3      s4  Movie    Pink: Staying True  Sonia Anderson   \n",
       "4      s5  Movie         Monster Maker    Giles Foster   \n",
       "\n",
       "                                                cast         country  \\\n",
       "0     Brendan Gleeson, Taylor Kitsch, Gordon Pinsent          Canada   \n",
       "1   Mahesh Manjrekar, Abhay Mahajan, Sachin Khedekar           India   \n",
       "2  Tom Sizemore, Lorenzo Lamas, Robert LaSardo, R...   United States   \n",
       "3  Interviews with: Pink, Adele, Beyoncé, Britney...   United States   \n",
       "4  Harry Dean Stanton, Kieran O'Brien, George Cos...  United Kingdom   \n",
       "\n",
       "       date_added  release_year rating duration                listed_in  \\\n",
       "0  March 30, 2021          2014    NaN  113 min            Comedy, Drama   \n",
       "1  March 30, 2021          2018    13+  110 min     Drama, International   \n",
       "2  March 30, 2021          2017    NaN   74 min  Action, Drama, Suspense   \n",
       "3  March 30, 2021          2014    NaN   69 min              Documentary   \n",
       "4  March 30, 2021          1989    NaN   45 min           Drama, Fantasy   \n",
       "\n",
       "                                         description  \n",
       "0  A small fishing village must procure a local d...  \n",
       "1  A Metro Family decides to fight a Cyber Crimin...  \n",
       "2  After a man discovers his wife is cheating on ...  \n",
       "3  Pink breaks the mold once again, bringing her ...  \n",
       "4  Teenage Matt Banting wants to work with a famo...  "
      ]
     },
     "execution_count": 239,
     "metadata": {},
     "output_type": "execute_result"
    }
   ],
   "source": [
    "df = pd.read_csv(\"amazon_prime.csv\")\n",
    "df.head(5)"
   ]
  },
  {
   "cell_type": "code",
   "execution_count": 240,
   "metadata": {},
   "outputs": [
    {
     "name": "stdout",
     "output_type": "stream",
     "text": [
      "<class 'pandas.core.frame.DataFrame'>\n",
      "RangeIndex: 9668 entries, 0 to 9667\n",
      "Data columns (total 12 columns):\n",
      " #   Column        Non-Null Count  Dtype \n",
      "---  ------        --------------  ----- \n",
      " 0   show_id       9668 non-null   object\n",
      " 1   type          9668 non-null   object\n",
      " 2   title         9668 non-null   object\n",
      " 3   director      7585 non-null   object\n",
      " 4   cast          8435 non-null   object\n",
      " 5   country       672 non-null    object\n",
      " 6   date_added    155 non-null    object\n",
      " 7   release_year  9668 non-null   int64 \n",
      " 8   rating        9331 non-null   object\n",
      " 9   duration      9668 non-null   object\n",
      " 10  listed_in     9668 non-null   object\n",
      " 11  description   9668 non-null   object\n",
      "dtypes: int64(1), object(11)\n",
      "memory usage: 906.5+ KB\n"
     ]
    }
   ],
   "source": [
    "df.info()"
   ]
  },
  {
   "cell_type": "markdown",
   "metadata": {},
   "source": [
    "---\n"
   ]
  },
  {
   "cell_type": "code",
   "execution_count": 292,
   "metadata": {},
   "outputs": [
    {
     "data": {
      "text/plain": [
       "show_id          0.00\n",
       "type             0.00\n",
       "title            0.00\n",
       "director        21.55\n",
       "cast            12.75\n",
       "country         93.05\n",
       "date_added      98.40\n",
       "release_year     0.00\n",
       "rating           3.49\n",
       "duration         0.00\n",
       "listed_in        0.00\n",
       "description      0.00\n",
       "dtype: float64"
      ]
     },
     "execution_count": 292,
     "metadata": {},
     "output_type": "execute_result"
    }
   ],
   "source": [
    "\n",
    "porcentajes_nulos = df.isna().sum()*100/df.shape[0]\n",
    "porcentajes_nulos = round(porcentajes_nulos,2)\n",
    "porcentajes_nulos"
   ]
  },
  {
   "cell_type": "code",
   "execution_count": 264,
   "metadata": {},
   "outputs": [
    {
     "data": {
      "text/plain": [
       "3553              NaN\n",
       "6451              NaN\n",
       "844               NaN\n",
       "9380              NaN\n",
       "3623              NaN\n",
       "3022    United States\n",
       "9209              NaN\n",
       "7856              NaN\n",
       "8908              NaN\n",
       "8949              NaN\n",
       "Name: country, dtype: object"
      ]
     },
     "execution_count": 264,
     "metadata": {},
     "output_type": "execute_result"
    }
   ],
   "source": [
    "#Is there a reason why users are not allowed to know their country where to use the account?\n",
    "df[\"country\"].sample(10)\n"
   ]
  },
  {
   "cell_type": "markdown",
   "metadata": {},
   "source": [
    "Preserving the Unknown Location is an important piece of information to show in the results. For this reason, I replaced null values with Unknown"
   ]
  },
  {
   "cell_type": "code",
   "execution_count": 243,
   "metadata": {},
   "outputs": [
    {
     "data": {
      "text/plain": [
       "country\n",
       "United States                            253\n",
       "India                                    229\n",
       "United Kingdom                            28\n",
       "Canada                                    16\n",
       "United Kingdom, United States             12\n",
       "                                        ... \n",
       "United States, Germany, Brazil, Italy      1\n",
       "South Africa                               1\n",
       "Australia, United States, Germany          1\n",
       "Germany, Austria, United States            1\n",
       "Italy, Spain                               1\n",
       "Name: count, Length: 86, dtype: int64"
      ]
     },
     "execution_count": 243,
     "metadata": {},
     "output_type": "execute_result"
    }
   ],
   "source": [
    "df[\"country\"].value_counts()"
   ]
  },
  {
   "cell_type": "code",
   "execution_count": 244,
   "metadata": {},
   "outputs": [
    {
     "data": {
      "text/plain": [
       "country\n",
       "United States     253\n",
       "India             229\n",
       "United Kingdom     28\n",
       "Canada             16\n",
       "Name: count, dtype: int64"
      ]
     },
     "execution_count": 244,
     "metadata": {},
     "output_type": "execute_result"
    }
   ],
   "source": [
    "frecuency_count = df[\"country\"].value_counts().head(4)\n",
    "frecuency_count"
   ]
  },
  {
   "cell_type": "code",
   "execution_count": 245,
   "metadata": {},
   "outputs": [
    {
     "data": {
      "image/png": "[encoded data removed]",
      "text/plain": [
       "<Figure size 640x480 with 1 Axes>"
      ]
     },
     "metadata": {},
     "output_type": "display_data"
    }
   ],
   "source": [
    "# Crea un gráfico de barras\n",
    "plt.bar(frecuency_count.index, frecuency_count.values)\n",
    "\n",
    "# Agrega etiquetas y título\n",
    "plt.xlabel('Country')\n",
    "plt.ylabel('Frecuency')\n",
    "plt.title('Countries most frequentlye')\n",
    "\n",
    "plt.show()"
   ]
  },
  {
   "cell_type": "code",
   "execution_count": 246,
   "metadata": {},
   "outputs": [],
   "source": [
    "country_count = df[\"country\"].value_counts().head(4)"
   ]
  },
  {
   "cell_type": "code",
   "execution_count": 247,
   "metadata": {},
   "outputs": [
    {
     "data": {
      "text/html": [
       "<div>\n",
       "<style scoped>\n",
       "    .dataframe tbody tr th:only-of-type {\n",
       "        vertical-align: middle;\n",
       "    }\n",
       "\n",
       "    .dataframe tbody tr th {\n",
       "        vertical-align: top;\n",
       "    }\n",
       "\n",
       "    .dataframe thead th {\n",
       "        text-align: right;\n",
       "    }\n",
       "</style>\n",
       "<table border=\"1\" class=\"dataframe\">\n",
       "  <thead>\n",
       "    <tr style=\"text-align: right;\">\n",
       "      <th></th>\n",
       "      <th>country</th>\n",
       "      <th>country_number</th>\n",
       "    </tr>\n",
       "  </thead>\n",
       "  <tbody>\n",
       "    <tr>\n",
       "      <th>397</th>\n",
       "      <td>United States</td>\n",
       "      <td>1</td>\n",
       "    </tr>\n",
       "    <tr>\n",
       "      <th>6403</th>\n",
       "      <td>NaN</td>\n",
       "      <td>0</td>\n",
       "    </tr>\n",
       "    <tr>\n",
       "      <th>5887</th>\n",
       "      <td>NaN</td>\n",
       "      <td>0</td>\n",
       "    </tr>\n",
       "    <tr>\n",
       "      <th>4920</th>\n",
       "      <td>NaN</td>\n",
       "      <td>0</td>\n",
       "    </tr>\n",
       "    <tr>\n",
       "      <th>5268</th>\n",
       "      <td>India</td>\n",
       "      <td>1</td>\n",
       "    </tr>\n",
       "    <tr>\n",
       "      <th>1241</th>\n",
       "      <td>NaN</td>\n",
       "      <td>0</td>\n",
       "    </tr>\n",
       "    <tr>\n",
       "      <th>9109</th>\n",
       "      <td>NaN</td>\n",
       "      <td>0</td>\n",
       "    </tr>\n",
       "    <tr>\n",
       "      <th>145</th>\n",
       "      <td>NaN</td>\n",
       "      <td>0</td>\n",
       "    </tr>\n",
       "    <tr>\n",
       "      <th>7959</th>\n",
       "      <td>NaN</td>\n",
       "      <td>0</td>\n",
       "    </tr>\n",
       "    <tr>\n",
       "      <th>7895</th>\n",
       "      <td>NaN</td>\n",
       "      <td>0</td>\n",
       "    </tr>\n",
       "  </tbody>\n",
       "</table>\n",
       "</div>"
      ],
      "text/plain": [
       "            country  country_number\n",
       "397   United States               1\n",
       "6403            NaN               0\n",
       "5887            NaN               0\n",
       "4920            NaN               0\n",
       "5268          India               1\n",
       "1241            NaN               0\n",
       "9109            NaN               0\n",
       "145             NaN               0\n",
       "7959            NaN               0\n",
       "7895            NaN               0"
      ]
     },
     "execution_count": 247,
     "metadata": {},
     "output_type": "execute_result"
    }
   ],
   "source": [
    "def contar_palabras(cadena):\n",
    "    if isinstance(cadena, str):\n",
    "        return len(cadena.split(','))\n",
    "    else:\n",
    "        return 0\n",
    "\n",
    "df['country_number'] = df['country'].apply(contar_palabras)\n",
    "\n",
    "df[['country', 'country_number']].sample(10)\n"
   ]
  },
  {
   "cell_type": "code",
   "execution_count": 248,
   "metadata": {},
   "outputs": [
    {
     "data": {
      "text/plain": [
       "165    2\n",
       "175    2\n",
       "193    2\n",
       "255    2\n",
       "261    3\n",
       "365    3\n",
       "366    3\n",
       "373    4\n",
       "455    2\n",
       "546    3\n",
       "Name: country_number, dtype: int64"
      ]
     },
     "execution_count": 248,
     "metadata": {},
     "output_type": "execute_result"
    }
   ],
   "source": [
    "df_filtrado = df[df['country_number'] >= 2]\n",
    "df_filtrado[\"country_number\"].head(10)"
   ]
  },
  {
   "cell_type": "markdown",
   "metadata": {},
   "source": [
    "There are 256 records that have two or more country locations"
   ]
  },
  {
   "cell_type": "code",
   "execution_count": 249,
   "metadata": {},
   "outputs": [
    {
     "data": {
      "text/plain": [
       "104"
      ]
     },
     "execution_count": 249,
     "metadata": {},
     "output_type": "execute_result"
    }
   ],
   "source": [
    "df_filtrado[\"country_number\"].value_counts().sum()"
   ]
  },
  {
   "cell_type": "code",
   "execution_count": 250,
   "metadata": {},
   "outputs": [
    {
     "data": {
      "text/html": [
       "<div>\n",
       "<style scoped>\n",
       "    .dataframe tbody tr th:only-of-type {\n",
       "        vertical-align: middle;\n",
       "    }\n",
       "\n",
       "    .dataframe tbody tr th {\n",
       "        vertical-align: top;\n",
       "    }\n",
       "\n",
       "    .dataframe thead th {\n",
       "        text-align: right;\n",
       "    }\n",
       "</style>\n",
       "<table border=\"1\" class=\"dataframe\">\n",
       "  <thead>\n",
       "    <tr style=\"text-align: right;\">\n",
       "      <th></th>\n",
       "      <th>country</th>\n",
       "      <th>country_number</th>\n",
       "    </tr>\n",
       "  </thead>\n",
       "  <tbody>\n",
       "    <tr>\n",
       "      <th>4349</th>\n",
       "      <td>NaN</td>\n",
       "      <td>0</td>\n",
       "    </tr>\n",
       "    <tr>\n",
       "      <th>4240</th>\n",
       "      <td>NaN</td>\n",
       "      <td>0</td>\n",
       "    </tr>\n",
       "    <tr>\n",
       "      <th>3010</th>\n",
       "      <td>NaN</td>\n",
       "      <td>0</td>\n",
       "    </tr>\n",
       "    <tr>\n",
       "      <th>4555</th>\n",
       "      <td>NaN</td>\n",
       "      <td>0</td>\n",
       "    </tr>\n",
       "    <tr>\n",
       "      <th>1167</th>\n",
       "      <td>NaN</td>\n",
       "      <td>0</td>\n",
       "    </tr>\n",
       "    <tr>\n",
       "      <th>1472</th>\n",
       "      <td>NaN</td>\n",
       "      <td>0</td>\n",
       "    </tr>\n",
       "    <tr>\n",
       "      <th>1484</th>\n",
       "      <td>United States</td>\n",
       "      <td>1</td>\n",
       "    </tr>\n",
       "    <tr>\n",
       "      <th>3776</th>\n",
       "      <td>NaN</td>\n",
       "      <td>0</td>\n",
       "    </tr>\n",
       "    <tr>\n",
       "      <th>6297</th>\n",
       "      <td>NaN</td>\n",
       "      <td>0</td>\n",
       "    </tr>\n",
       "    <tr>\n",
       "      <th>8692</th>\n",
       "      <td>NaN</td>\n",
       "      <td>0</td>\n",
       "    </tr>\n",
       "  </tbody>\n",
       "</table>\n",
       "</div>"
      ],
      "text/plain": [
       "            country  country_number\n",
       "4349            NaN               0\n",
       "4240            NaN               0\n",
       "3010            NaN               0\n",
       "4555            NaN               0\n",
       "1167            NaN               0\n",
       "1472            NaN               0\n",
       "1484  United States               1\n",
       "3776            NaN               0\n",
       "6297            NaN               0\n",
       "8692            NaN               0"
      ]
     },
     "execution_count": 250,
     "metadata": {},
     "output_type": "execute_result"
    }
   ],
   "source": [
    "def contar_palabras(cadena):\n",
    "    if isinstance(cadena, str):\n",
    "        return len(cadena.split(','))\n",
    "    else:\n",
    "        return 0\n",
    "\n",
    "df['country_number'] = df['country'].apply(contar_palabras)\n",
    "\n",
    "df[['country', 'country_number']].sample(10)"
   ]
  },
  {
   "cell_type": "code",
   "execution_count": 251,
   "metadata": {},
   "outputs": [],
   "source": [
    "\n",
    "def contar_palabras(cadena):\n",
    "    if isinstance(cadena, str):\n",
    "        return len(cadena.split(','))\n",
    "    else:\n",
    "        return 0\n",
    "\n",
    "df['country_number'] = df['country'].apply(contar_palabras)\n",
    "\n",
    "# Cambiar \"Country\" a \"Otros\" si \"country_number\" es mayor o igual a 2\n",
    "def reemplazar_con_otros(row):\n",
    "    if row['country_number'] >= 2:\n",
    "        return 'Several countries'\n",
    "    else:\n",
    "        return row['country']\n",
    "\n",
    "df['country'] = df.apply(reemplazar_con_otros, axis=1)\n",
    "\n",
    "# Eliminar la columna 'country_number' si ya no la necesitas\n",
    "df.drop('country_number', axis=1, inplace=True)\n"
   ]
  },
  {
   "cell_type": "code",
   "execution_count": 252,
   "metadata": {},
   "outputs": [],
   "source": [
    "df_filtrado_otros = df[\"country\"].value_counts().head()\n"
   ]
  },
  {
   "cell_type": "code",
   "execution_count": 253,
   "metadata": {},
   "outputs": [
    {
     "data": {
      "image/png": "[encoded data removed]",
      "text/plain": [
       "<Figure size 640x480 with 1 Axes>"
      ]
     },
     "metadata": {},
     "output_type": "display_data"
    }
   ],
   "source": [
    "plt.barh(df_filtrado_otros.index, df_filtrado_otros.values)\n",
    "df_filtrado_otros = df_filtrado_otros.sort_values(ascending=False)\n",
    "\n",
    "plt.xlabel('Video content')\n",
    "plt.ylabel('Frecuency')\n",
    "plt.title('Frecuencia sobre las preferencias en Amazon Prime')\n",
    "\n",
    "plt.show()"
   ]
  },
  {
   "cell_type": "code",
   "execution_count": 254,
   "metadata": {},
   "outputs": [
    {
     "data": {
      "image/png": "[encoded data removed]",
      "text/plain": [
       "<Figure size 640x480 with 1 Axes>"
      ]
     },
     "metadata": {},
     "output_type": "display_data"
    }
   ],
   "source": [
    "frecuencia = df['type'].value_counts()\n",
    "\n",
    "plt.bar(frecuencia.index, frecuencia.values)\n",
    "\n",
    "plt.xlabel('Tipo de contenido')\n",
    "plt.ylabel('Frecuencia')\n",
    "plt.title('Frecuencia sobre las preferencias en Amazon Prime')\n",
    "\n",
    "plt.show()"
   ]
  },
  {
   "cell_type": "markdown",
   "metadata": {},
   "source": [
    "Film director"
   ]
  },
  {
   "cell_type": "code",
   "execution_count": 255,
   "metadata": {},
   "outputs": [],
   "source": [
    "director = df[\"director\"].value_counts().head(10)"
   ]
  },
  {
   "cell_type": "code",
   "execution_count": 256,
   "metadata": {},
   "outputs": [],
   "source": [
    "condicion = (df[\"director\"] == 1)\n",
    "director = df.drop(df[condicion].index)"
   ]
  },
  {
   "cell_type": "code",
   "execution_count": 257,
   "metadata": {},
   "outputs": [],
   "source": [
    "frecuencia_director = director[\"director\"].value_counts().head(5)"
   ]
  },
  {
   "cell_type": "code",
   "execution_count": 258,
   "metadata": {},
   "outputs": [
    {
     "data": {
      "image/png": "[encoded data removed]",
      "text/plain": [
       "<Figure size 640x480 with 1 Axes>"
      ]
     },
     "metadata": {},
     "output_type": "display_data"
    }
   ],
   "source": [
    "plt.barh(frecuencia_director.index, frecuencia_director.values)\n",
    "frecuencia_director = frecuencia_director.sort_values(ascending=True)\n",
    "\n",
    "plt.title(\"List of film directors with the most viewing\")\n",
    "\n",
    "plt.show()"
   ]
  },
  {
   "cell_type": "code",
   "execution_count": 259,
   "metadata": {},
   "outputs": [
    {
     "data": {
      "text/html": [
       "<div>\n",
       "<style scoped>\n",
       "    .dataframe tbody tr th:only-of-type {\n",
       "        vertical-align: middle;\n",
       "    }\n",
       "\n",
       "    .dataframe tbody tr th {\n",
       "        vertical-align: top;\n",
       "    }\n",
       "\n",
       "    .dataframe thead th {\n",
       "        text-align: right;\n",
       "    }\n",
       "</style>\n",
       "<table border=\"1\" class=\"dataframe\">\n",
       "  <thead>\n",
       "    <tr style=\"text-align: right;\">\n",
       "      <th></th>\n",
       "      <th>type</th>\n",
       "      <th>director</th>\n",
       "    </tr>\n",
       "  </thead>\n",
       "  <tbody>\n",
       "    <tr>\n",
       "      <th>7730</th>\n",
       "      <td>Movie</td>\n",
       "      <td>Christopher Morahan</td>\n",
       "    </tr>\n",
       "    <tr>\n",
       "      <th>8530</th>\n",
       "      <td>Movie</td>\n",
       "      <td>Jeremy Alter</td>\n",
       "    </tr>\n",
       "    <tr>\n",
       "      <th>2074</th>\n",
       "      <td>Movie</td>\n",
       "      <td>Alison Chernick</td>\n",
       "    </tr>\n",
       "    <tr>\n",
       "      <th>922</th>\n",
       "      <td>TV Show</td>\n",
       "      <td>NaN</td>\n",
       "    </tr>\n",
       "    <tr>\n",
       "      <th>6161</th>\n",
       "      <td>Movie</td>\n",
       "      <td>Oliver Parker</td>\n",
       "    </tr>\n",
       "    <tr>\n",
       "      <th>1262</th>\n",
       "      <td>TV Show</td>\n",
       "      <td>NaN</td>\n",
       "    </tr>\n",
       "    <tr>\n",
       "      <th>4061</th>\n",
       "      <td>Movie</td>\n",
       "      <td>mink</td>\n",
       "    </tr>\n",
       "    <tr>\n",
       "      <th>1563</th>\n",
       "      <td>Movie</td>\n",
       "      <td>Martín Deus</td>\n",
       "    </tr>\n",
       "    <tr>\n",
       "      <th>5364</th>\n",
       "      <td>Movie</td>\n",
       "      <td>Kang Nam Kyu</td>\n",
       "    </tr>\n",
       "    <tr>\n",
       "      <th>8450</th>\n",
       "      <td>Movie</td>\n",
       "      <td>Patrick Marber</td>\n",
       "    </tr>\n",
       "  </tbody>\n",
       "</table>\n",
       "</div>"
      ],
      "text/plain": [
       "         type             director\n",
       "7730    Movie  Christopher Morahan\n",
       "8530    Movie         Jeremy Alter\n",
       "2074    Movie      Alison Chernick\n",
       "922   TV Show                  NaN\n",
       "6161    Movie        Oliver Parker\n",
       "1262  TV Show                  NaN\n",
       "4061    Movie                 mink\n",
       "1563    Movie          Martín Deus\n",
       "5364    Movie         Kang Nam Kyu\n",
       "8450    Movie       Patrick Marber"
      ]
     },
     "execution_count": 259,
     "metadata": {},
     "output_type": "execute_result"
    }
   ],
   "source": [
    "df[[\"type\", \"director\"]].sample(10)"
   ]
  },
  {
   "cell_type": "code",
   "execution_count": 269,
   "metadata": {},
   "outputs": [
    {
     "data": {
      "text/plain": [
       "type   director             \n",
       "Movie  Mark Knight              113\n",
       "       Cannis Holder             61\n",
       "       Moonbug Entertainment     37\n",
       "       Jay Chapman               34\n",
       "       Arthur van Merwijk        30\n",
       "                               ... \n",
       "       Hemant Dhome               1\n",
       "       Helen Slinger              1\n",
       "       Helen Langridge            1\n",
       "       Helen Hunt                 1\n",
       "       藤村明世                       1\n",
       "Name: count, Length: 5773, dtype: int64"
      ]
     },
     "execution_count": 269,
     "metadata": {},
     "output_type": "execute_result"
    }
   ],
   "source": [
    "df_movies = df[df[\"type\"] == \"Movie\"]\n",
    "\n",
    "df_movies[[\"type\", \"director\"]].value_counts()"
   ]
  },
  {
   "cell_type": "markdown",
   "metadata": {},
   "source": [
    "TV Show has no movie director"
   ]
  },
  {
   "cell_type": "code",
   "execution_count": 283,
   "metadata": {},
   "outputs": [
    {
     "data": {
      "text/html": [
       "<div>\n",
       "<style scoped>\n",
       "    .dataframe tbody tr th:only-of-type {\n",
       "        vertical-align: middle;\n",
       "    }\n",
       "\n",
       "    .dataframe tbody tr th {\n",
       "        vertical-align: top;\n",
       "    }\n",
       "\n",
       "    .dataframe thead th {\n",
       "        text-align: right;\n",
       "    }\n",
       "</style>\n",
       "<table border=\"1\" class=\"dataframe\">\n",
       "  <thead>\n",
       "    <tr style=\"text-align: right;\">\n",
       "      <th></th>\n",
       "      <th>type</th>\n",
       "      <th>director</th>\n",
       "    </tr>\n",
       "  </thead>\n",
       "  <tbody>\n",
       "    <tr>\n",
       "      <th>17</th>\n",
       "      <td>TV Show</td>\n",
       "      <td>NaN</td>\n",
       "    </tr>\n",
       "    <tr>\n",
       "      <th>18</th>\n",
       "      <td>TV Show</td>\n",
       "      <td>NaN</td>\n",
       "    </tr>\n",
       "    <tr>\n",
       "      <th>20</th>\n",
       "      <td>TV Show</td>\n",
       "      <td>NaN</td>\n",
       "    </tr>\n",
       "    <tr>\n",
       "      <th>21</th>\n",
       "      <td>TV Show</td>\n",
       "      <td>NaN</td>\n",
       "    </tr>\n",
       "    <tr>\n",
       "      <th>23</th>\n",
       "      <td>TV Show</td>\n",
       "      <td>NaN</td>\n",
       "    </tr>\n",
       "    <tr>\n",
       "      <th>...</th>\n",
       "      <td>...</td>\n",
       "      <td>...</td>\n",
       "    </tr>\n",
       "    <tr>\n",
       "      <th>9651</th>\n",
       "      <td>TV Show</td>\n",
       "      <td>NaN</td>\n",
       "    </tr>\n",
       "    <tr>\n",
       "      <th>9655</th>\n",
       "      <td>TV Show</td>\n",
       "      <td>NaN</td>\n",
       "    </tr>\n",
       "    <tr>\n",
       "      <th>9661</th>\n",
       "      <td>TV Show</td>\n",
       "      <td>NaN</td>\n",
       "    </tr>\n",
       "    <tr>\n",
       "      <th>9664</th>\n",
       "      <td>TV Show</td>\n",
       "      <td>NaN</td>\n",
       "    </tr>\n",
       "    <tr>\n",
       "      <th>9666</th>\n",
       "      <td>TV Show</td>\n",
       "      <td>NaN</td>\n",
       "    </tr>\n",
       "  </tbody>\n",
       "</table>\n",
       "<p>1854 rows × 2 columns</p>\n",
       "</div>"
      ],
      "text/plain": [
       "         type director\n",
       "17    TV Show      NaN\n",
       "18    TV Show      NaN\n",
       "20    TV Show      NaN\n",
       "21    TV Show      NaN\n",
       "23    TV Show      NaN\n",
       "...       ...      ...\n",
       "9651  TV Show      NaN\n",
       "9655  TV Show      NaN\n",
       "9661  TV Show      NaN\n",
       "9664  TV Show      NaN\n",
       "9666  TV Show      NaN\n",
       "\n",
       "[1854 rows x 2 columns]"
      ]
     },
     "execution_count": 283,
     "metadata": {},
     "output_type": "execute_result"
    }
   ],
   "source": [
    "df_movies = df[df[\"type\"] == \"TV Show\"]\n",
    "\n",
    "df_movies[[\"type\", \"director\"]]"
   ]
  },
  {
   "cell_type": "code",
   "execution_count": 285,
   "metadata": {},
   "outputs": [
    {
     "data": {
      "text/plain": [
       "0         113 min\n",
       "1         110 min\n",
       "2          74 min\n",
       "3          69 min\n",
       "4          45 min\n",
       "          ...    \n",
       "9663       60 min\n",
       "9664    4 Seasons\n",
       "9665       90 min\n",
       "9666     1 Season\n",
       "9667      103 min\n",
       "Name: duration, Length: 9668, dtype: object"
      ]
     },
     "execution_count": 285,
     "metadata": {},
     "output_type": "execute_result"
    }
   ],
   "source": [
    "df[\"duration\"]"
   ]
  },
  {
   "cell_type": "code",
   "execution_count": 284,
   "metadata": {},
   "outputs": [
    {
     "ename": "TypeError",
     "evalue": "agg function failed [how->mean,dtype->object]",
     "output_type": "error",
     "traceback": [
      "\u001b[0;31m---------------------------------------------------------------------------\u001b[0m",
      "\u001b[0;31mTypeError\u001b[0m                                 Traceback (most recent call last)",
      "File \u001b[0;32m/opt/homebrew/lib/python3.11/site-packages/pandas/core/groupby/groupby.py:1870\u001b[0m, in \u001b[0;36mGroupBy._agg_py_fallback\u001b[0;34m(self, how, values, ndim, alt)\u001b[0m\n\u001b[1;32m   1869\u001b[0m \u001b[38;5;28;01mtry\u001b[39;00m:\n\u001b[0;32m-> 1870\u001b[0m     res_values \u001b[38;5;241m=\u001b[39m \u001b[38;5;28;43mself\u001b[39;49m\u001b[38;5;241;43m.\u001b[39;49m\u001b[43mgrouper\u001b[49m\u001b[38;5;241;43m.\u001b[39;49m\u001b[43magg_series\u001b[49m\u001b[43m(\u001b[49m\u001b[43mser\u001b[49m\u001b[43m,\u001b[49m\u001b[43m \u001b[49m\u001b[43malt\u001b[49m\u001b[43m,\u001b[49m\u001b[43m \u001b[49m\u001b[43mpreserve_dtype\u001b[49m\u001b[38;5;241;43m=\u001b[39;49m\u001b[38;5;28;43;01mTrue\u001b[39;49;00m\u001b[43m)\u001b[49m\n\u001b[1;32m   1871\u001b[0m \u001b[38;5;28;01mexcept\u001b[39;00m \u001b[38;5;167;01mException\u001b[39;00m \u001b[38;5;28;01mas\u001b[39;00m err:\n",
      "File \u001b[0;32m/opt/homebrew/lib/python3.11/site-packages/pandas/core/groupby/ops.py:850\u001b[0m, in \u001b[0;36mBaseGrouper.agg_series\u001b[0;34m(self, obj, func, preserve_dtype)\u001b[0m\n\u001b[1;32m    848\u001b[0m     preserve_dtype \u001b[38;5;241m=\u001b[39m \u001b[38;5;28;01mTrue\u001b[39;00m\n\u001b[0;32m--> 850\u001b[0m result \u001b[38;5;241m=\u001b[39m \u001b[38;5;28;43mself\u001b[39;49m\u001b[38;5;241;43m.\u001b[39;49m\u001b[43m_aggregate_series_pure_python\u001b[49m\u001b[43m(\u001b[49m\u001b[43mobj\u001b[49m\u001b[43m,\u001b[49m\u001b[43m \u001b[49m\u001b[43mfunc\u001b[49m\u001b[43m)\u001b[49m\n\u001b[1;32m    852\u001b[0m npvalues \u001b[38;5;241m=\u001b[39m lib\u001b[38;5;241m.\u001b[39mmaybe_convert_objects(result, try_float\u001b[38;5;241m=\u001b[39m\u001b[38;5;28;01mFalse\u001b[39;00m)\n",
      "File \u001b[0;32m/opt/homebrew/lib/python3.11/site-packages/pandas/core/groupby/ops.py:871\u001b[0m, in \u001b[0;36mBaseGrouper._aggregate_series_pure_python\u001b[0;34m(self, obj, func)\u001b[0m\n\u001b[1;32m    870\u001b[0m \u001b[38;5;28;01mfor\u001b[39;00m i, group \u001b[38;5;129;01min\u001b[39;00m \u001b[38;5;28menumerate\u001b[39m(splitter):\n\u001b[0;32m--> 871\u001b[0m     res \u001b[38;5;241m=\u001b[39m \u001b[43mfunc\u001b[49m\u001b[43m(\u001b[49m\u001b[43mgroup\u001b[49m\u001b[43m)\u001b[49m\n\u001b[1;32m    872\u001b[0m     res \u001b[38;5;241m=\u001b[39m extract_result(res)\n",
      "File \u001b[0;32m/opt/homebrew/lib/python3.11/site-packages/pandas/core/groupby/groupby.py:2376\u001b[0m, in \u001b[0;36mGroupBy.mean.<locals>.<lambda>\u001b[0;34m(x)\u001b[0m\n\u001b[1;32m   2373\u001b[0m \u001b[38;5;28;01melse\u001b[39;00m:\n\u001b[1;32m   2374\u001b[0m     result \u001b[38;5;241m=\u001b[39m \u001b[38;5;28mself\u001b[39m\u001b[38;5;241m.\u001b[39m_cython_agg_general(\n\u001b[1;32m   2375\u001b[0m         \u001b[38;5;124m\"\u001b[39m\u001b[38;5;124mmean\u001b[39m\u001b[38;5;124m\"\u001b[39m,\n\u001b[0;32m-> 2376\u001b[0m         alt\u001b[38;5;241m=\u001b[39m\u001b[38;5;28;01mlambda\u001b[39;00m x: \u001b[43mSeries\u001b[49m\u001b[43m(\u001b[49m\u001b[43mx\u001b[49m\u001b[43m)\u001b[49m\u001b[38;5;241;43m.\u001b[39;49m\u001b[43mmean\u001b[49m\u001b[43m(\u001b[49m\u001b[43mnumeric_only\u001b[49m\u001b[38;5;241;43m=\u001b[39;49m\u001b[43mnumeric_only\u001b[49m\u001b[43m)\u001b[49m,\n\u001b[1;32m   2377\u001b[0m         numeric_only\u001b[38;5;241m=\u001b[39mnumeric_only,\n\u001b[1;32m   2378\u001b[0m     )\n\u001b[1;32m   2379\u001b[0m     \u001b[38;5;28;01mreturn\u001b[39;00m result\u001b[38;5;241m.\u001b[39m__finalize__(\u001b[38;5;28mself\u001b[39m\u001b[38;5;241m.\u001b[39mobj, method\u001b[38;5;241m=\u001b[39m\u001b[38;5;124m\"\u001b[39m\u001b[38;5;124mgroupby\u001b[39m\u001b[38;5;124m\"\u001b[39m)\n",
      "File \u001b[0;32m/opt/homebrew/lib/python3.11/site-packages/pandas/core/series.py:6226\u001b[0m, in \u001b[0;36mSeries.mean\u001b[0;34m(self, axis, skipna, numeric_only, **kwargs)\u001b[0m\n\u001b[1;32m   6218\u001b[0m \u001b[38;5;129m@doc\u001b[39m(make_doc(\u001b[38;5;124m\"\u001b[39m\u001b[38;5;124mmean\u001b[39m\u001b[38;5;124m\"\u001b[39m, ndim\u001b[38;5;241m=\u001b[39m\u001b[38;5;241m1\u001b[39m))\n\u001b[1;32m   6219\u001b[0m \u001b[38;5;28;01mdef\u001b[39;00m \u001b[38;5;21mmean\u001b[39m(\n\u001b[1;32m   6220\u001b[0m     \u001b[38;5;28mself\u001b[39m,\n\u001b[0;32m   (...)\u001b[0m\n\u001b[1;32m   6224\u001b[0m     \u001b[38;5;241m*\u001b[39m\u001b[38;5;241m*\u001b[39mkwargs,\n\u001b[1;32m   6225\u001b[0m ):\n\u001b[0;32m-> 6226\u001b[0m     \u001b[38;5;28;01mreturn\u001b[39;00m \u001b[43mNDFrame\u001b[49m\u001b[38;5;241;43m.\u001b[39;49m\u001b[43mmean\u001b[49m\u001b[43m(\u001b[49m\u001b[38;5;28;43mself\u001b[39;49m\u001b[43m,\u001b[49m\u001b[43m \u001b[49m\u001b[43maxis\u001b[49m\u001b[43m,\u001b[49m\u001b[43m \u001b[49m\u001b[43mskipna\u001b[49m\u001b[43m,\u001b[49m\u001b[43m \u001b[49m\u001b[43mnumeric_only\u001b[49m\u001b[43m,\u001b[49m\u001b[43m \u001b[49m\u001b[38;5;241;43m*\u001b[39;49m\u001b[38;5;241;43m*\u001b[39;49m\u001b[43mkwargs\u001b[49m\u001b[43m)\u001b[49m\n",
      "File \u001b[0;32m/opt/homebrew/lib/python3.11/site-packages/pandas/core/generic.py:11969\u001b[0m, in \u001b[0;36mNDFrame.mean\u001b[0;34m(self, axis, skipna, numeric_only, **kwargs)\u001b[0m\n\u001b[1;32m  11962\u001b[0m \u001b[38;5;28;01mdef\u001b[39;00m \u001b[38;5;21mmean\u001b[39m(\n\u001b[1;32m  11963\u001b[0m     \u001b[38;5;28mself\u001b[39m,\n\u001b[1;32m  11964\u001b[0m     axis: Axis \u001b[38;5;241m|\u001b[39m \u001b[38;5;28;01mNone\u001b[39;00m \u001b[38;5;241m=\u001b[39m \u001b[38;5;241m0\u001b[39m,\n\u001b[0;32m   (...)\u001b[0m\n\u001b[1;32m  11967\u001b[0m     \u001b[38;5;241m*\u001b[39m\u001b[38;5;241m*\u001b[39mkwargs,\n\u001b[1;32m  11968\u001b[0m ) \u001b[38;5;241m-\u001b[39m\u001b[38;5;241m>\u001b[39m Series \u001b[38;5;241m|\u001b[39m \u001b[38;5;28mfloat\u001b[39m:\n\u001b[0;32m> 11969\u001b[0m     \u001b[38;5;28;01mreturn\u001b[39;00m \u001b[38;5;28;43mself\u001b[39;49m\u001b[38;5;241;43m.\u001b[39;49m\u001b[43m_stat_function\u001b[49m\u001b[43m(\u001b[49m\n\u001b[1;32m  11970\u001b[0m \u001b[43m        \u001b[49m\u001b[38;5;124;43m\"\u001b[39;49m\u001b[38;5;124;43mmean\u001b[39;49m\u001b[38;5;124;43m\"\u001b[39;49m\u001b[43m,\u001b[49m\u001b[43m \u001b[49m\u001b[43mnanops\u001b[49m\u001b[38;5;241;43m.\u001b[39;49m\u001b[43mnanmean\u001b[49m\u001b[43m,\u001b[49m\u001b[43m \u001b[49m\u001b[43maxis\u001b[49m\u001b[43m,\u001b[49m\u001b[43m \u001b[49m\u001b[43mskipna\u001b[49m\u001b[43m,\u001b[49m\u001b[43m \u001b[49m\u001b[43mnumeric_only\u001b[49m\u001b[43m,\u001b[49m\u001b[43m \u001b[49m\u001b[38;5;241;43m*\u001b[39;49m\u001b[38;5;241;43m*\u001b[39;49m\u001b[43mkwargs\u001b[49m\n\u001b[1;32m  11971\u001b[0m \u001b[43m    \u001b[49m\u001b[43m)\u001b[49m\n",
      "File \u001b[0;32m/opt/homebrew/lib/python3.11/site-packages/pandas/core/generic.py:11926\u001b[0m, in \u001b[0;36mNDFrame._stat_function\u001b[0;34m(self, name, func, axis, skipna, numeric_only, **kwargs)\u001b[0m\n\u001b[1;32m  11924\u001b[0m validate_bool_kwarg(skipna, \u001b[38;5;124m\"\u001b[39m\u001b[38;5;124mskipna\u001b[39m\u001b[38;5;124m\"\u001b[39m, none_allowed\u001b[38;5;241m=\u001b[39m\u001b[38;5;28;01mFalse\u001b[39;00m)\n\u001b[0;32m> 11926\u001b[0m \u001b[38;5;28;01mreturn\u001b[39;00m \u001b[38;5;28;43mself\u001b[39;49m\u001b[38;5;241;43m.\u001b[39;49m\u001b[43m_reduce\u001b[49m\u001b[43m(\u001b[49m\n\u001b[1;32m  11927\u001b[0m \u001b[43m    \u001b[49m\u001b[43mfunc\u001b[49m\u001b[43m,\u001b[49m\u001b[43m \u001b[49m\u001b[43mname\u001b[49m\u001b[38;5;241;43m=\u001b[39;49m\u001b[43mname\u001b[49m\u001b[43m,\u001b[49m\u001b[43m \u001b[49m\u001b[43maxis\u001b[49m\u001b[38;5;241;43m=\u001b[39;49m\u001b[43maxis\u001b[49m\u001b[43m,\u001b[49m\u001b[43m \u001b[49m\u001b[43mskipna\u001b[49m\u001b[38;5;241;43m=\u001b[39;49m\u001b[43mskipna\u001b[49m\u001b[43m,\u001b[49m\u001b[43m \u001b[49m\u001b[43mnumeric_only\u001b[49m\u001b[38;5;241;43m=\u001b[39;49m\u001b[43mnumeric_only\u001b[49m\n\u001b[1;32m  11928\u001b[0m \u001b[43m\u001b[49m\u001b[43m)\u001b[49m\n",
      "File \u001b[0;32m/opt/homebrew/lib/python3.11/site-packages/pandas/core/series.py:6134\u001b[0m, in \u001b[0;36mSeries._reduce\u001b[0;34m(self, op, name, axis, skipna, numeric_only, filter_type, **kwds)\u001b[0m\n\u001b[1;32m   6130\u001b[0m     \u001b[38;5;28;01mraise\u001b[39;00m \u001b[38;5;167;01mTypeError\u001b[39;00m(\n\u001b[1;32m   6131\u001b[0m         \u001b[38;5;124mf\u001b[39m\u001b[38;5;124m\"\u001b[39m\u001b[38;5;124mSeries.\u001b[39m\u001b[38;5;132;01m{\u001b[39;00mname\u001b[38;5;132;01m}\u001b[39;00m\u001b[38;5;124m does not allow \u001b[39m\u001b[38;5;132;01m{\u001b[39;00mkwd_name\u001b[38;5;132;01m}\u001b[39;00m\u001b[38;5;124m=\u001b[39m\u001b[38;5;132;01m{\u001b[39;00mnumeric_only\u001b[38;5;132;01m}\u001b[39;00m\u001b[38;5;124m \u001b[39m\u001b[38;5;124m\"\u001b[39m\n\u001b[1;32m   6132\u001b[0m         \u001b[38;5;124m\"\u001b[39m\u001b[38;5;124mwith non-numeric dtypes.\u001b[39m\u001b[38;5;124m\"\u001b[39m\n\u001b[1;32m   6133\u001b[0m     )\n\u001b[0;32m-> 6134\u001b[0m \u001b[38;5;28;01mreturn\u001b[39;00m \u001b[43mop\u001b[49m\u001b[43m(\u001b[49m\u001b[43mdelegate\u001b[49m\u001b[43m,\u001b[49m\u001b[43m \u001b[49m\u001b[43mskipna\u001b[49m\u001b[38;5;241;43m=\u001b[39;49m\u001b[43mskipna\u001b[49m\u001b[43m,\u001b[49m\u001b[43m \u001b[49m\u001b[38;5;241;43m*\u001b[39;49m\u001b[38;5;241;43m*\u001b[39;49m\u001b[43mkwds\u001b[49m\u001b[43m)\u001b[49m\n",
      "File \u001b[0;32m/opt/homebrew/lib/python3.11/site-packages/pandas/core/nanops.py:147\u001b[0m, in \u001b[0;36mbottleneck_switch.__call__.<locals>.f\u001b[0;34m(values, axis, skipna, **kwds)\u001b[0m\n\u001b[1;32m    146\u001b[0m \u001b[38;5;28;01melse\u001b[39;00m:\n\u001b[0;32m--> 147\u001b[0m     result \u001b[38;5;241m=\u001b[39m \u001b[43malt\u001b[49m\u001b[43m(\u001b[49m\u001b[43mvalues\u001b[49m\u001b[43m,\u001b[49m\u001b[43m \u001b[49m\u001b[43maxis\u001b[49m\u001b[38;5;241;43m=\u001b[39;49m\u001b[43maxis\u001b[49m\u001b[43m,\u001b[49m\u001b[43m \u001b[49m\u001b[43mskipna\u001b[49m\u001b[38;5;241;43m=\u001b[39;49m\u001b[43mskipna\u001b[49m\u001b[43m,\u001b[49m\u001b[43m \u001b[49m\u001b[38;5;241;43m*\u001b[39;49m\u001b[38;5;241;43m*\u001b[39;49m\u001b[43mkwds\u001b[49m\u001b[43m)\u001b[49m\n\u001b[1;32m    149\u001b[0m \u001b[38;5;28;01mreturn\u001b[39;00m result\n",
      "File \u001b[0;32m/opt/homebrew/lib/python3.11/site-packages/pandas/core/nanops.py:404\u001b[0m, in \u001b[0;36m_datetimelike_compat.<locals>.new_func\u001b[0;34m(values, axis, skipna, mask, **kwargs)\u001b[0m\n\u001b[1;32m    402\u001b[0m     mask \u001b[38;5;241m=\u001b[39m isna(values)\n\u001b[0;32m--> 404\u001b[0m result \u001b[38;5;241m=\u001b[39m \u001b[43mfunc\u001b[49m\u001b[43m(\u001b[49m\u001b[43mvalues\u001b[49m\u001b[43m,\u001b[49m\u001b[43m \u001b[49m\u001b[43maxis\u001b[49m\u001b[38;5;241;43m=\u001b[39;49m\u001b[43maxis\u001b[49m\u001b[43m,\u001b[49m\u001b[43m \u001b[49m\u001b[43mskipna\u001b[49m\u001b[38;5;241;43m=\u001b[39;49m\u001b[43mskipna\u001b[49m\u001b[43m,\u001b[49m\u001b[43m \u001b[49m\u001b[43mmask\u001b[49m\u001b[38;5;241;43m=\u001b[39;49m\u001b[43mmask\u001b[49m\u001b[43m,\u001b[49m\u001b[43m \u001b[49m\u001b[38;5;241;43m*\u001b[39;49m\u001b[38;5;241;43m*\u001b[39;49m\u001b[43mkwargs\u001b[49m\u001b[43m)\u001b[49m\n\u001b[1;32m    406\u001b[0m \u001b[38;5;28;01mif\u001b[39;00m datetimelike:\n",
      "File \u001b[0;32m/opt/homebrew/lib/python3.11/site-packages/pandas/core/nanops.py:720\u001b[0m, in \u001b[0;36mnanmean\u001b[0;34m(values, axis, skipna, mask)\u001b[0m\n\u001b[1;32m    719\u001b[0m the_sum \u001b[38;5;241m=\u001b[39m values\u001b[38;5;241m.\u001b[39msum(axis, dtype\u001b[38;5;241m=\u001b[39mdtype_sum)\n\u001b[0;32m--> 720\u001b[0m the_sum \u001b[38;5;241m=\u001b[39m \u001b[43m_ensure_numeric\u001b[49m\u001b[43m(\u001b[49m\u001b[43mthe_sum\u001b[49m\u001b[43m)\u001b[49m\n\u001b[1;32m    722\u001b[0m \u001b[38;5;28;01mif\u001b[39;00m axis \u001b[38;5;129;01mis\u001b[39;00m \u001b[38;5;129;01mnot\u001b[39;00m \u001b[38;5;28;01mNone\u001b[39;00m \u001b[38;5;129;01mand\u001b[39;00m \u001b[38;5;28mgetattr\u001b[39m(the_sum, \u001b[38;5;124m\"\u001b[39m\u001b[38;5;124mndim\u001b[39m\u001b[38;5;124m\"\u001b[39m, \u001b[38;5;28;01mFalse\u001b[39;00m):\n",
      "File \u001b[0;32m/opt/homebrew/lib/python3.11/site-packages/pandas/core/nanops.py:1693\u001b[0m, in \u001b[0;36m_ensure_numeric\u001b[0;34m(x)\u001b[0m\n\u001b[1;32m   1691\u001b[0m \u001b[38;5;28;01mif\u001b[39;00m \u001b[38;5;28misinstance\u001b[39m(x, \u001b[38;5;28mstr\u001b[39m):\n\u001b[1;32m   1692\u001b[0m     \u001b[38;5;66;03m# GH#44008, GH#36703 avoid casting e.g. strings to numeric\u001b[39;00m\n\u001b[0;32m-> 1693\u001b[0m     \u001b[38;5;28;01mraise\u001b[39;00m \u001b[38;5;167;01mTypeError\u001b[39;00m(\u001b[38;5;124mf\u001b[39m\u001b[38;5;124m\"\u001b[39m\u001b[38;5;124mCould not convert string \u001b[39m\u001b[38;5;124m'\u001b[39m\u001b[38;5;132;01m{\u001b[39;00mx\u001b[38;5;132;01m}\u001b[39;00m\u001b[38;5;124m'\u001b[39m\u001b[38;5;124m to numeric\u001b[39m\u001b[38;5;124m\"\u001b[39m)\n\u001b[1;32m   1694\u001b[0m \u001b[38;5;28;01mtry\u001b[39;00m:\n",
      "\u001b[0;31mTypeError\u001b[0m: Could not convert string '113 min110 min74 min69 min45 min52 min98 min131 min87 min92 min88 min93 min94 min46 min74 min96 min87 min104 min62 min94 min50 min86 min36 min37 min103 min98 min9 min18 min14 min20 min19 min18 min20 min20 min22 min60 min6 min54 min5 min84 min126 min125 min109 min89 min85 min56 min40 min111 min33 min34 min95 min99 min104 min111 min78 min77 min55 min126 min53 min115 min55 min58 min49 min104 min95 min109 min135 min91 min99 min64 min131 min59 min52 min48 min109 min62 min84 min85 min22 min22 min22 min22 min122 min103 min9 min92 min90 min102 min65 min114 min56 min59 min136 min70 min138 min89 min113 min100 min480 min4 min30 min104 min65 min152 min152 min55 min86 min68 min57 min89 min77 min92 min96 min109 min85 min98 min94 min88 min90 min31 min151 min92 min149 min111 min86 min113 min53 min125 min141 min121 min48 min99 min88 min79 min111 min140 min140 min140 min90 min46 min51 min51 min106 min75 min93 min60 min27 min90 min104 min60 min88 min69 min107 min108 min108 min91 min115 min93 min38 min104 min92 min102 min157 min43 min91 min91 min118 min139 min112 min15 min93 min87 min110 min27 min107 min95 min126 min72 min86 min93 min88 min87 min89 min88 min65 min116 min93 min142 min104 min75 min57 min84 min71 min104 min65 min91 min56 min57 min60 min42 min55 min81 min100 min46 min95 min95 min106 min57 min32 min52 min87 min95 min54 min66 min127 min96 min43 min159 min67 min92 min94 min29 min132 min101 min89 min164 min152 min116 min90 min73 min95 min57 min61 min60 min60 min62 min115 min91 min91 min118 min71 min93 min136 min99 min96 min92 min95 min60 min60 min60 min66 min110 min19 min65 min87 min99 min96 min104 min91 min88 min80 min61 min91 min79 min90 min91 min62 min85 min99 min75 min110 min89 min83 min106 min107 min91 min75 min44 min110 min45 min54 min91 min91 min94 min87 min94 min120 min113 min79 min69 min56 min90 min95 min93 min102 min111 min53 min91 min26 min97 min80 min107 min90 min93 min97 min48 min66 min104 min97 min36 min109 min93 min30 min79 min84 min86 min89 min59 min91 min102 min87 min22 min97 min74 min86 min97 min58 min23 min105 min107 min106 min89 min93 min49 min58 min55 min91 min56 min56 min26 min77 min82 min106 min88 min102 min78 min87 min11 min60 min95 min80 min74 min56 min53 min50 min50 min127 min127 min96 min89 min107 min9 min116 min103 min53 min80 min84 min82 min140 min93 min111 min89 min69 min105 min148 min121 min125 min88 min96 min109 min115 min88 min68 min82 min109 min95 min45 min70 min96 min86 min116 min99 min103 min57 min113 min106 min77 min101 min90 min99 min92 min91 min91 min88 min48 min71 min69 min97 min91 min110 min85 min89 min110 min83 min161 min73 min72 min78 min89 min68 min57 min111 min95 min97 min68 min81 min91 min100 min55 min68 min100 min82 min56 min91 min33 min90 min98 min92 min34 min123 min116 min77 min95 min95 min94 min99 min93 min107 min90 min64 min98 min80 min83 min96 min81 min92 min54 min92 min95 min101 min66 min103 min94 min104 min91 min126 min90 min98 min89 min52 min100 min90 min102 min43 min91 min103 min67 min89 min93 min103 min56 min103 min110 min79 min29 min77 min88 min93 min73 min107 min118 min103 min105 min87 min96 min92 min98 min103 min49 min36 min83 min112 min54 min62 min105 min58 min102 min66 min112 min94 min102 min142 min142 min56 min55 min0 min98 min56 min90 min72 min84 min96 min124 min86 min80 min59 min45 min45 min86 min86 min70 min49 min22 min138 min98 min34 min90 min143 min85 min35 min60 min47 min82 min81 min170 min170 min170 min170 min74 min34 min103 min52 min103 min99 min3 min60 min60 min60 min60 min59 min141 min99 min55 min30 min101 min70 min90 min84 min122 min123 min146 min96 min99 min114 min85 min48 min38 min99 min88 min86 min82 min103 min85 min27 min72 min65 min73 min84 min56 min106 min90 min89 min73 min88 min88 min91 min96 min135 min53 min100 min71 min96 min78 min109 min53 min94 min60 min601 min480 min60 min138 min88 min24 min53 min53 min60 min71 min96 min91 min88 min111 min42 min90 min101 min83 min83 min96 min94 min36 min4 min84 min89 min95 min92 min132 min104 min110 min87 min55 min88 min90 min78 min62 min109 min90 min87 min64 min53 min83 min157 min52 min30 min33 min60 min59 min45 min47 min35 min95 min90 min84 min98 min59 min70 min115 min85 min126 min126 min29 min105 min35 min99 min123 min154 min60 min100 min69 min71 min88 min61 min86 min85 min54 min33 min100 min65 min127 min103 min44 min128 min133 min92 min106 min93 min86 min97 min98 min74 min92 min123 min55 min57 min50 min95 min14 min110 min74 min29 min78 min107 min89 min95 min153 min148 min34 min95 min85 min73 min67 min72 min94 min53 min119 min92 min63 min124 min95 min72 min170 min170 min170 min169 min26 min110 min148 min127 min101 min111 min92 min102 min78 min22 min95 min94 min118 min53 min118 min68 min88 min121 min94 min60 min96 min74 min49 min91 min70 min59 min93 min115 min59 min55 min57 min59 min53 min18 min53 min4 min84 min93 min101 min56 min57 min63 min60 min60 min60 min70 min90 min90 min90 min91 min94 min54 min90 min73 min53 min174 min93 min85 min128 min144 min52 min88 min7 min111 min72 min110 min92 min159 min137 min60 min76 min112 min104 min102 min39 min92 min68 min88 min73 min48 min46 min72 min86 min132 min98 min19 min106 min110 min93 min42 min82 min93 min98 min22 min59 min60 min50 min125 min43 min100 min81 min94 min67 min78 min58 min109 min80 min115 min127 min70 min63 min148 min132 min132 min84 min48 min93 min94 min76 min27 min140 min118 min100 min64 min75 min62 min71 min101 min134 min91 min0 min53 min97 min78 min96 min73 min149 min163 min61 min138 min138 min161 min38 min73 min82 min91 min99 min139 min92 min120 min1 min87 min105 min83 min159 min60 min60 min113 min145 min110 min69 min85 min73 min58 min84 min55 min98 min120 min112 min90 min162 min162 min32 min95 min97 min47 min50 min47 min53 min49 min53 min46 min39 min49 min50 min67 min33 min41 min39 min103 min97 min112 min144 min91 min109 min78 min101 min91 min48 min126 min126 min93 min86 min93 min114 min65 min52 min52 min45 min60 min43 min56 min46 min64 min97 min50 min76 min147 min97 min86 min95 min31 min58 min62 min111 min90 min90 min44 min110 min61 min87 min53 min53 min53 min53 min53 min53 min69 min80 min98 min105 min155 min117 min167 min125 min121 min72 min66 min79 min75 min60 min92 min117 min93 min15 min84 min99 min93 min91 min106 min100 min54 min53 min92 min70 min57 min58 min139 min90 min111 min74 min69 min87 min55 min125 min59 min1 min1 min0 min85 min109 min89 min88 min87 min96 min45 min51 min52 min27 min30 min28 min49 min25 min31 min58 min120 min180 min50 min90 min53 min113 min117 min33 min94 min61 min30 min2 min3 min138 min100 min88 min66 min98 min96 min97 min120 min71 min81 min85 min89 min88 min66 min89 min88 min48 min42 min41 min32 min57 min76 min480 min541 min90 min240 min136 min41 min60 min78 min83 min113 min61 min88 min14 min67 min97 min68 min101 min86 min94 min135 min127 min95 min138 min86 min88 min42 min44 min45 min43 min64 min66 min70 min129 min101 min178 min178 min178 min178 min178 min178 min89 min94 min95 min90 min86 min113 min33 min18 min124 min104 min75 min50 min82 min118 min88 min106 min127 min120 min85 min82 min70 min106 min89 min24 min107 min104 min36 min82 min151 min81 min171 min49 min57 min111 min21 min55 min92 min87 min105 min126 min107 min91 min93 min109 min56 min172 min173 min172 min83 min86 min133 min90 min92 min44 min61 min86 min90 min94 min97 min103 min80 min78 min101 min108 min101 min60 min88 min49 min50 min95 min140 min69 min50 min24 min90 min133 min93 min77 min139 min21 min37 min33 min31 min26 min33 min89 min99 min55 min81 min25 min120 min95 min113 min34 min85 min107 min91 min96 min44 min50 min68 min73 min55 min104 min93 min67 min27 min91 min38 min37 min60 min7 min30 min10 min9 min120 min107 min92 min97 min96 min90 min84 min59 min59 min104 min153 min90 min92 min114 min114 min78 min95 min91 min86 min100 min55 min102 min87 min53 min77 min28 min30 min26 min30 min92 min123 min85 min57 min81 min83 min68 min153 min83 min65 min97 min154 min127 min137 min137 min58 min52 min60 min166 min123 min148 min137 min137 min164 min160 min161 min161 min53 min155 min155 min154 min155 min84 min100 min94 min55 min60 min81 min92 min60 min103 min93 min60 min42 min112 min75 min63 min110 min95 min51 min66 min66 min90 min57 min58 min39 min76 min60 min68 min63 min62 min41 min105 min57 min59 min59 min94 min58 min58 min58 min80 min97 min84 min61 min106 min63 min64 min54 min130 min62 min84 min65 min56 min104 min54 min129 min134 min91 min52 min80 min104 min87 min31 min77 min83 min157 min57 min479 min88 min118 min133 min132 min82 min93 min77 min140 min80 min53 min120 min84 min61 min105 min53 min13 min103 min107 min10 min63 min106 min91 min89 min65 min129 min104 min11 min98 min100 min1 min93 min90 min75 min60 min126 min38 min28 min86 min89 min108 min84 min90 min57 min54 min74 min77 min98 min51 min38 min80 min61 min113 min61 min77 min8 min68 min120 min73 min52 min141 min112 min56 min43 min82 min57 min76 min126 min92 min84 min111 min38 min84 min57 min90 min95 min17 min72 min99 min84 min103 min87 min26 min85 min106 min141 min86 min110 min87 min70 min96 min99 min56 min71 min79 min106 min118 min159 min56 min97 min94 min58 min105 min136 min99 min60 min111 min114 min110 min99 min108 min30 min107 min85 min128 min81 min85 min52 min92 min35 min101 min102 min104 min99 min93 min100 min112 min109 min85 min92 min76 min120 min91 min115 min139 min75 min125 min46 min141 min74 min70 min61 min91 min82 min153 min88 min99 min118 min60 min95 min101 min142 min85 min146 min108 min83 min86 min99 min26 min32 min35 min20 min31 min34 min32 min23 min34 min92 min111 min94 min135 min70 min77 min92 min69 min58 min68 min109 min55 min65 min84 min98 min93 min7 min134 min138 min103 min91 min87 min91 min63 min541 min541 min106 min119 min39 min40 min48 min41 min35 min40 min33 min105 min87 min48 min61 min58 min125 min93 min58 min58 min63 min58 min54 min58 min58 min60 min57 min53 min148 min104 min108 min2 min38 min20 min53 min57 min94 min83 min117 min86 min58 min117 min74 min114 min115 min86 min97 min88 min75 min95 min110 min58 min112 min95 min75 min92 min16 min89 min126 min106 min106 min89 min27 min60 min126 min106 min112 min48 min94 min114 min42 min55 min90 min82 min56 min95 min103 min63 min50 min40 min76 min116 min97 min103 min77 min90 min96 min101 min145 min92 min98 min81 min128 min34 min66 min148 min71 min92 min89 min58 min109 min49 min39 min36 min86 min87 min53 min65 min91 min55 min90 min78 min54 min58 min94 min98 min101 min60 min44 min151 min93 min106 min98 min60 min88 min105 min100 min51 min63 min66 min70 min80 min133 min33 min113 min102 min98 min64 min59 min73 min96 min95 min106 min36 min106 min90 min104 min72 min68 min75 min141 min120 min14 min153 min92 min90 min82 min109 min91 min39 min98 min80 min59 min60 min71 min61 min80 min86 min82 min109 min81 min72 min111 min59 min97 min40 min99 min101 min60 min92 min59 min48 min98 min87 min79 min79 min98 min91 min31 min95 min26 min2 min83 min89 min77 min110 min99 min6 min56 min90 min61 min86 min107 min140 min129 min137 min85 min94 min93 min27 min53 min100 min52 min91 min79 min27 min94 min167 min89 min100 min26 min92 min92 min28 min91 min94 min36 min92 min94 min76 min70 min107 min158 min158 min158 min59 min84 min78 min65 min85 min97 min55 min61 min76 min43 min82 min58 min53 min55 min42 min87 min52 min100 min56 min10 min80 min90 min94 min62 min103 min97 min89 min107 min82 min90 min92 min100 min58 min129 min73 min58 min95 min53 min135 min102 min68 min90 min79 min131 min3 min72 min95 min54 min100 min10 min56 min105 min88 min66 min96 min93 min85 min74 min4 min183 min12 min89 min72 min48 min35 min27 min35 min90 min83 min92 min126 min79 min89 min37 min88 min88 min93 min20 min93 min22 min89 min61 min61 min71 min132 min93 min91 min119 min76 min53 min92 min107 min83 min97 min88 min89 min80 min136 min62 min79 min103 min93 min97 min101 min107 min94 min88 min30 min52 min122 min97 min116 min59 min183 min85 min90 min83 min53 min78 min96 min74 min53 min76 min83 min104 min71 min52 min97 min96 min84 min97 min95 min98 min98 min90 min106 min58 min78 min90 min84 min95 min31 min49 min97 min21 min120 min102 min58 min64 min46 min69 min30 min85 min78 min88 min10 min114 min82 min65 min30 min102 min61 min60 min89 min77 min105 min103 min78 min62 min62 min111 min145 min102 min59 min88 min90 min69 min44 min64 min62 min57 min65 min55 min109 min51 min101 min91 min79 min89 min94 min100 min62 min87 min67 min29 min71 min48 min92 min40 min86 min67 min92 min94 min137 min98 min75 min39 min105 min70 min55 min101 min91 min97 min48 min86 min76 min90 min120 min30 min86 min71 min108 min81 min56 min178 min77 min80 min30 min110 min98 min141 min155 min137 min82 min110 min62 min54 min99 min104 min114 min86 min60 min90 min96 min122 min82 min87 min54 min99 min64 min81 min50 min96 min83 min102 min73 min30 min60 min30 min60 min62 min59 min89 min95 min129 min87 min96 min124 min96 min139 min71 min96 min76 min78 min102 min60 min46 min98 min164 min88 min78 min84 min92 min83 min101 min93 min85 min91 min90 min100 min63 min72 min25 min48 min12 min84 min106 min60 min148 min5 min87 min112 min46 min31 min59 min90 min99 min112 min37 min91 min54 min82 min131 min21 min22 min21 min21 min23 min22 min21 min22 min21 min60 min90 min30 min62 min61 min42 min87 min74 min113 min54 min51 min86 min98 min107 min102 min140 min81 min103 min87 min99 min77 min82 min47 min108 min90 min146 min101 min100 min59 min109 min47 min46 min87 min94 min74 min82 min94 min118 min89 min60 min53 min53 min114 min54 min52 min54 min114 min53 min117 min138 min24 min31 min76 min89 min148 min104 min7 min85 min60 min54 min62 min88 min83 min89 min113 min64 min107 min101 min67 min101 min48 min87 min106 min90 min70 min95 min145 min133 min87 min90 min51 min140 min61 min111 min86 min57 min100 min97 min89 min27 min89 min17 min150 min65 min127 min86 min82 min89 min73 min93 min93 min6 min3 min60 min60 min60 min60 min137 min91 min113 min94 min63 min81 min93 min56 min89 min122 min60 min73 min89 min89 min108 min60 min60 min87 min110 min85 min77 min84 min74 min133 min105 min92 min51 min51 min112 min96 min91 min106 min97 min94 min57 min87 min89 min86 min101 min100 min112 min91 min102 min92 min30 min104 min74 min10 min541 min8 min481 min480 min89 min104 min7 min89 min6 min98 min108 min83 min5 min45 min81 min85 min92 min83 min90 min94 min30 min80 min30 min30 min30 min30 min30 min30 min30 min30 min30 min100 min10 min71 min108 min99 min92 min55 min141 min141 min141 min48 min52 min16 min22 min20 min21 min19 min21 min22 min21 min19 min19 min17 min17 min17 min20 min18 min20 min18 min20 min25 min20 min22 min22 min18 min20 min20 min19 min20 min22 min22 min22 min18 min23 min17 min19 min19 min20 min20 min18 min24 min21 min21 min15 min98 min15 min15 min15 min15 min106 min90 min104 min109 min23 min31 min75 min84 min101 min101 min106 min91 min92 min120 min91 min67 min80 min87 min52 min111 min52 min67 min106 min89 min109 min149 min91 min119 min92 min120 min100 min99 min44 min101 min96 min89 min91 min96 min101 min92 min91 min102 min100 min94 min92 min91 min64 min81 min103 min88 min147 min97 min150 min107 min95 min85 min105 min98 min91 min95 min97 min88 min105 min81 min98 min116 min94 min94 min91 min80 min114 min181 min87 min94 min91 min4 min93 min96 min88 min80 min86 min106 min103 min25 min61 min124 min124 min142 min70 min121 min82 min156 min52 min92 min53 min105 min74 min110 min97 min47 min94 min90 min94 min95 min87 min108 min88 min88 min89 min67 min102 min92 min99 min111 min70 min84 min540 min105 min93 min169 min59 min139 min89 min111 min123 min114 min111 min86 min50 min13 min105 min52 min61 min88 min57 min91 min83 min145 min90 min96 min139 min102 min96 min94 min480 min59 min32 min61 min73 min82 min71 min88 min90 min96 min94 min129 min77 min90 min89 min49 min88 min139 min88 min108 min121 min107 min89 min107 min146 min106 min85 min100 min86 min58 min58 min58 min34 min84 min73 min89 min138 min57 min91 min112 min50 min55 min101 min88 min87 min86 min139 min107 min105 min150 min21 min82 min95 min42 min94 min118 min85 min89 min74 min107 min90 min140 min89 min110 min91 min89 min89 min97 min98 min96 min97 min133 min129 min92 min118 min106 min120 min89 min92 min153 min112 min82 min97 min540 min96 min94 min57 min52 min62 min68 min84 min71 min116 min94 min108 min110 min101 min90 min103 min133 min58 min103 min141 min177 min99 min104 min67 min86 min94 min96 min103 min95 min60 min95 min53 min81 min81 min64 min135 min63 min155 min82 min57 min58 min69 min94 min103 min89 min151 min131 min89 min113 min97 min90 min550 min78 min99 min116 min90 min105 min57 min63 min154 min59 min133 min145 min87 min53 min100 min112 min96 min136 min109 min98 min85 min86 min103 min104 min89 min118 min93 min480 min115 min58 min86 min96 min90 min89 min156 min133 min60 min79 min78 min92 min130 min148 min59 min140 min90 min91 min135 min102 min96 min58 min119 min78 min109 min485 min75 min139 min118 min90 min540 min109 min83 min58 min69 min49 min101 min102 min31 min54 min103 min56 min139 min99 min105 min106 min86 min84 min59 min71 min90 min93 min89 min107 min87 min86 min81 min87 min87 min109 min20 min23 min17 min18 min150 min111 min88 min31 min105 min86 min96 min93 min100 min108 min100 min93 min95 min154 min69 min94 min98 min91 min43 min240 min60 min89 min30 min108 min104 min75 min103 min85 min38 min106 min129 min62 min136 min28 min95 min127 min69 min101 min69 min83 min48 min88 min108 min82 min98 min147 min79 min81 min90 min42 min88 min82 min101 min34 min103 min105 min149 min55 min64 min88 min60 min55 min79 min42 min95 min101 min94 min105 min88 min81 min114 min114 min52 min15 min71 min42 min81 min81 min54 min112 min69 min148 min95 min82 min58 min112 min115 min52 min60 min56 min57 min109 min151 min91 min18 min18 min22 min88 min89 min107 min85 min76 min90 min109 min46 min90 min152 min93 min100 min89 min89 min94 min95 min90 min145 min107 min90 min97 min76 min83 min59 min87 min125 min87 min110 min35 min88 min93 min85 min111 min89 min90 min72 min92 min53 min119 min84 min44 min49 min90 min86 min90 min541 min87 min176 min120 min82 min89 min95 min61 min105 min90 min120 min113 min90 min159 min94 min97 min136 min89 min116 min50 min55 min91 min95 min95 min115 min99 min81 min88 min108 min481 min33 min96 min100 min99 min35 min57 min86 min80 min541 min96 min111 min95 min136 min94 min85 min109 min94 min49 min109 min62 min57 min102 min46 min111 min82 min95 min74 min140 min90 min44 min98 min88 min120 min98 min89 min121 min89 min29 min83 min54 min84 min42 min89 min60 min120 min97 min102 min81 min26 min102 min65 min136 min93 min86 min88 min30 min18 min23 min20 min103 min102 min137 min81 min115 min114 min61 min90 min64 min106 min61 min102 min51 min49 min53 min85 min37 min47 min114 min117 min88 min99 min56 min59 min27 min87 min98 min109 min18 min22 min134 min104 min94 min97 min135 min124 min67 min94 min59 min96 min90 min51 min88 min57 min86 min80 min88 min91 min97 min10 min105 min45 min133 min49 min96 min27 min88 min97 min34 min57 min75 min101 min147 min106 min98 min94 min103 min26 min87 min96 min97 min95 min94 min140 min92 min90 min19 min21 min159 min75 min140 min102 min55 min108 min87 min129 min114 min58 min84 min87 min115 min541 min79 min91 min87 min75 min146 min47 min80 min130 min53 min91 min76 min94 min41 min90 min94 min99 min60 min64 min98 min81 min88 min81 min129 min115 min54 min80 min83 min30 min93 min84 min89 min99 min67 min61 min65 min70 min41 min42 min100 min96 min86 min115 min131 min59 min108 min119 min89 min88 min104 min118 min74 min69 min111 min75 min88 min74 min82 min144 min92 min142 min64 min67 min93 min88 min114 min82 min89 min89 min103 min88 min60 min80 min159 min159 min91 min86 min97 min145 min60 min193 min169 min104 min60 min132 min59 min29 min54 min49 min132 min119 min90 min77 min89 min95 min128 min70 min109 min83 min97 min120 min83 min82 min103 min53 min83 min91 min99 min45 min118 min81 min131 min90 min134 min158 min88 min89 min84 min108 min102 min154 min93 min96 min87 min104 min84 min79 min86 min85 min86 min78 min161 min92 min68 min56 min113 min151 min133 min94 min86 min80 min58 min55 min55 min136 min41 min107 min75 min94 min110 min116 min115 min85 min99 min95 min89 min104 min51 min94 min123 min56 min133 min102 min87 min95 min103 min94 min118 min95 min84 min102 min104 min100 min93 min94 min122 min93 min59 min82 min59 min93 min87 min54 min88 min111 min62 min131 min88 min106 min123 min109 min85 min86 min37 min85 min146 min95 min104 min60 min69 min85 min144 min98 min118 min106 min101 min105 min104 min134 min99 min151 min83 min83 min101 min96 min82 min95 min83 min84 min92 min117 min97 min77 min87 min99 min103 min1 min45 min88 min90 min78 min100 min82 min98 min143 min88 min88 min29 min61 min93 min48 min83 min87 min87 min98 min122 min88 min37 min70 min119 min107 min92 min97 min57 min85 min83 min70 min97 min89 min165 min165 min85 min99 min480 min171 min170 min66 min58 min91 min40 min85 min125 min51 min122 min51 min89 min71 min102 min111 min110 min91 min99 min541 min109 min86 min55 min128 min55 min177 min133 min91 min100 min79 min106 min75 min107 min64 min90 min163 min73 min131 min87 min87 min104 min18 min13 min91 min100 min88 min57 min96 min116 min5 min122 min57 min175 min165 min66 min131 min141 min84 min74 min100 min99 min124 min126 min86 min78 min116 min98 min6 min122 min88 min132 min131 min133 min89 min90 min87 min94 min118 min105 min126 min51 min79 min86 min95 min152 min74 min100 min100 min89 min50 min107 min97 min85 min105 min88 min125 min96 min99 min65 min135 min61 min70 min127 min111 min130 min98 min146 min100 min102 min96 min89 min86 min47 min90 min87 min92 min72 min63 min137 min78 min167 min80 min81 min86 min45 min89 min0 min109 min89 min153 min109 min89 min89 min91 min86 min126 min87 min103 min145 min111 min69 min90 min74 min110 min98 min114 min45 min61 min77 min85 min167 min96 min87 min46 min118 min80 min79 min122 min93 min97 min99 min94 min137 min80 min102 min99 min130 min101 min78 min122 min88 min81 min87 min78 min79 min102 min85 min112 min90 min95 min69 min94 min77 min71 min70 min109 min85 min61 min92 min95 min103 min79 min80 min110 min77 min126 min89 min112 min90 min84 min88 min100 min86 min84 min118 min113 min106 min74 min112 min92 min71 min104 min138 min88 min13 min121 min94 min142 min90 min93 min92 min99 min80 min91 min97 min139 min78 min79 min87 min104 min133 min105 min81 min98 min91 min112 min79 min60 min89 min142 min60 min79 min105 min91 min85 min89 min14 min21 min59 min143 min133 min93 min56 min100 min99 min100 min100 min48 min90 min79 min41 min54 min84 min129 min31 min74 min98 min81 min64 min94 min94 min75 min15 min80 min93 min90 min103 min80 min117 min93 min40 min85 min91 min24 min99 min114 min99 min94 min163 min127 min106 min170 min89 min117 min86 min112 min52 min71 min104 min96 min92 min93 min91 min102 min80 min101 min54 min86 min59 min94 min102 min109 min87 min61 min52 min92 min2 min75 min82 min48 min71 min76 min73 min97 min45 min23 min540 min150 min92 min87 min96 min92 min156 min85 min117 min92 min51 min51 min52 min52 min58 min52 min52 min149 min95 min136 min89 min129 min138 min53 min139 min41 min137 min22 min107 min93 min16 min150 min112 min78 min113 min100 min84 min105 min99 min82 min43 min97 min94 min120 min118 min100 min131 min99 min118 min108 min33 min63 min44 min109 min111 min80 min85 min103 min75 min104 min114 min83 min92 min91 min132 min98 min117 min86 min110 min105 min131 min89 min91 min91 min129 min92 min123 min93 min92 min67 min80 min124 min85 min89 min151 min88 min91 min61 min118 min107 min109 min86 min131 min28 min69 min148 min91 min87 min81 min102 min117 min59 min104 min92 min80 min93 min45 min158 min86 min139 min85 min87 min45 min94 min101 min91 min95 min94 min150 min92 min101 min91 min83 min92 min90 min83 min124 min139 min116 min105 min21 min130 min105 min15 min131 min50 min59 min86 min104 min49 min65 min155 min84 min86 min76 min103 min87 min58 min93 min120 min113 min82 min81 min18 min129 min85 min114 min75 min19 min98 min103 min74 min101 min84 min93 min82 min98 min157 min104 min85 min77 min109 min75 min104 min125 min90 min47 min51 min36 min118 min93 min152 min79 min92 min86 min94 min88 min96 min43 min100 min91 min87 min58 min60 min79 min92 min141 min27 min58 min44 min36 min88 min147 min92 min120 min89 min57 min105 min83 min104 min98 min127 min138 min147 min139 min0 min95 min9 min108 min101 min99 min127 min100 min31 min73 min138 min106 min158 min82 min98 min102 min92 min79 min12 min109 min89 min86 min46 min89 min91 min0 min75 min125 min91 min96 min164 min88 min89 min78 min92 min30 min96 min36 min102 min90 min45 min107 min75 min81 min96 min541 min99 min88 min82 min73 min107 min123 min111 min120 min125 min171 min30 min34 min171 min29 min65 min55 min88 min44 min104 min97 min154 min120 min130 min150 min156 min123 min147 min131 min180 min126 min152 min130 min158 min122 min150 min164 min128 min142 min123 min132 min99 min135 min45 min120 min126 min105 min105 min117 min139 min169 min90 min113 min136 min91 min188 min118 min187 min105 min173 min143 min162 min129 min176 min143 min128 min116 min116 min118 min150 min136 min168 min138 min169 min190 min146 min104 min152 min138 min177 min146 min180 min128 min130 min139 min139 min152 min156 min119 min138 min143 min150 min141 min99 min128 min50 min87 min78 min93 min141 min86 min53 min110 min87 min48 min95 min48 min47 min77 min95 min33 min130 min98 min30 min28 min21 min11 min121 min48 min91 min32 min31 min102 min131 min58 min76 min99 min160 min144 min80 min25 min112 min34 min31 min97 min37 min110 min97 min49 min31 min32 min126 min117 min22 min21 min21 min54 min37 min112 min89 min20 min79 min104 min94 min89 min10 min99 min98 min91 min42 min125 min115 min92 min97 min42 min91 min83 min41 min59 min97 min75 min110 min166 min118 min115 min113 min82 min90 min91 min91 min71 min44 min119 min89 min33 min84 min29 min117 min28 min98 min87 min23 min96 min122 min88 min127 min134 min10 min112 min94 min111 min129 min159 min117 min86 min30 min80 min81 min165 min51 min104 min171 min160 min80 min88 min97 min102 min87 min63 min116 min118 min142 min79 min97 min137 min105 min9 min136 min149 min111 min86 min76 min10 min83 min59 min35 min29 min9 min96 min21 min44 min75 min92 min118 min97 min96 min93 min116 min88 min70 min87 min96 min71 min70 min86 min87 min91 min71 min114 min97 min71 min101 min80 min46 min97 min94 min140 min92 min112 min94 min98 min81 min44 min98 min71 min107 min89 min82 min87 min98 min118 min83 min111 min124 min84 min89 min109 min44 min93 min109 min98 min95 min106 min87 min17 min84 min62 min82 min101 min71 min95 min120 min86 min56 min101 min106 min90 min48 min100 min113 min92 min94 min94 min117 min88 min72 min52 min89 min91 min85 min86 min44 min94 min99 min59 min114 min86 min49 min66 min36 min35 min52 min84 min119 min98 min120 min84 min85 min87 min109 min90 min52 min97 min108 min100 min109 min93 min92 min58 min135 min84 min109 min88 min22 min19 min59 min105 min86 min21 min114 min85 min89 min133 min95 min85 min103 min119 min95 min104 min87 min146 min27 min138 min78 min106 min121 min36 min81 min12 min52 min107 min94 min95 min99 min92 min84 min83 min117 min71 min90 min46 min49 min32 min95 min95 min116 min129 min58 min97 min114 min101 min109 min130 min86 min98 min105 min118 min119 min104 min96 min101 min120 min87 min86 min79 min91 min91 min105 min90 min88 min108 min90 min92 min125 min95 min106 min73 min94 min92 min72 min90 min86 min150 min85 min61 min130 min75 min82 min80 min127 min51 min149 min0 min72 min22 min138 min85 min72 min113 min81 min91 min79 min92 min95 min88 min81 min83 min86 min82 min100 min108 min61 min89 min89 min72 min11 min52 min65 min107 min125 min80 min50 min86 min106 min115 min125 min125 min47 min91 min30 min40 min41 min100 min52 min38 min41 min34 min53 min23 min25 min91 min92 min105 min86 min104 min98 min88 min87 min101 min90 min143 min91 min117 min99 min75 min70 min145 min97 min99 min41 min103 min15 min92 min121 min99 min62 min80 min87 min118 min93 min151 min65 min128 min84 min103 min71 min137 min89 min125 min94 min95 min97 min87 min41 min50 min52 min75 min13 min116 min132 min117 min80 min89 min87 min68 min146 min79 min72 min101 min15 min84 min104 min73 min48 min101 min145 min125 min97 min88 min82 min97 min83 min86 min99 min70 min83 min94 min99 min95 min99 min120 min151 min129 min94 min73 min158 min86 min88 min85 min132 min88 min112 min86 min52 min116 min53 min152 min92 min59 min87 min117 min119 min91 min94 min110 min134 min148 min44 min100 min90 min57 min74 min66 min53 min53 min124 min84 min23 min30 min31 min70 min91 min114 min88 min90 min102 min16 min82 min92 min107 min87 min91 min22 min91 min13 min83 min14 min15 min131 min90 min143 min97 min86 min79 min20 min20 min22 min126 min23 min97 min70 min185 min81 min26 min136 min138 min209 min192 min86 min126 min131 min85 min131 min14 min135 min23 min149 min10 min144 min86 min13 min117 min82 min165 min170 min82 min54 min72 min81 min14 min11 min16 min112 min131 min155 min99 min79 min136 min15 min174 min86 min96 min81 min90 min106 min98 min72 min94 min111 min71 min156 min82 min126 min96 min131 min60 min25 min88 min86 min62 min157 min86 min111 min132 min117 min158 min100 min133 min45 min91 min93 min85 min83 min102 min17 min51 min92 min52 min90 min128 min165 min121 min90 min154 min91 min96 min78 min85 min121 min110 min110 min95 min83 min101 min87 min99 min50 min91 min93 min118 min109 min96 min61 min89 min133 min89 min47 min90 min100 min56 min87 min98 min98 min106 min111 min61 min86 min64 min99 min92 min115 min102 min82 min69 min77 min82 min123 min160 min90 min84 min89 min122 min133 min72 min108 min113 min144 min84 min133 min83 min21 min120 min43 min104 min82 min119 min116 min82 min93 min112 min14 min120 min122 min98 min101 min99 min19 min105 min91 min100 min107 min98 min111 min133 min79 min80 min92 min88 min91 min31 min60 min77 min114 min58 min40 min84 min149 min91 min107 min81 min80 min46 min98 min98 min70 min42 min85 min102 min77 min138 min42 min112 min127 min43 min43 min9 min85 min157 min48 min96 min95 min120 min124 min37 min46 min48 min107 min29 min52 min73 min127 min88 min42 min91 min106 min91 min102 min90 min108 min96 min86 min93 min95 min91 min114 min86 min107 min99 min81 min83 min125 min88 min71 min89 min79 min70 min114 min89 min67 min97 min91 min109 min101 min82 min86 min106 min0 min96 min172 min52 min89 min100 min41 min91 min64 min113 min88 min70 min67 min79 min47 min97 min100 min106 min71 min101 min118 min112 min34 min102 min54 min96 min107 min84 min109 min109 min90 min98 min96 min70 min77 min91 min109 min68 min175 min97 min94 min103 min82 min91 min138 min121 min82 min84 min103 min75 min106 min45 min30 min87 min122 min36 min82 min104 min115 min93 min107 min70 min131 min88 min119 min50 min87 min91 min101 min96 min158 min60 min60 min60 min56 min75 min89 min104 min99 min145 min113 min63 min97 min103 min61 min140 min116 min22 min71 min80 min105 min72 min45 min75 min46 min5 min49 min92 min147 min75 min65 min153 min102 min96 min23 min99 min94 min78 min10 min82 min102 min74 min80 min80 min118 min56 min90 min70 min80 min99 min92 min85 min98 min70 min104 min96 min90 min103 min116 min148 min17 min84 min19 min102 min86 min53 min92 min106 min98 min92 min101 min91 min93 min90 min88 min74 min74 min98 min120 min90 min60 min65 min56 min107 min85 min75 min99 min90 min97 min127 min132 min41 min93 min55 min114 min54 min88 min138 min105 min108 min96 min126 min43 min23 min20 min71 min88 min102 min3 min75 min131 min125 min150 min52 min130 min103 min63 min78 min104 min74 min98 min82 min137 min93 min57 min89 min64 min58 min93 min111 min97 min83 min40 min70 min91 min159 min137 min138 min93 min26 min98 min100 min120 min140 min73 min86 min32 min111 min79 min87 min151 min93 min136 min120 min90 min71 min110 min87 min128 min134 min132 min154 min150 min113 min138 min133 min164 min161 min122 min122 min144 min103 min160 min122 min106 min160 min153 min103 min115 min18 min74 min66 min80 min35 min92 min99 min28 min83 min96 min80 min100 min85 min62 min103 min96 min67 min87 min93 min41 min77 min157 min82 min147 min162 min72 min88 min90 min5 min74 min133 min96 min93 min70 min149 min174 min12 min141 min85 min83 min155 min93 min107 min140 min84 min83 min117 min83 min65 min98 min165 min144 min81 min77 min119 min93 min80 min117 min122 min71 min90 min120 min112 min2 min103 min103 min80 min107 min103 min89 min86 min90 min61 min106 min100 min127 min78 min92 min83 min90 min99 min124 min149 min153 min132 min100 min88 min87 min85 min89 min108 min92 min79 min142 min97 min104 min100 min118 min102 min161 min161 min88 min83 min100 min82 min75 min71 min88 min91 min80 min34 min68 min60 min91 min120 min153 min107 min151 min105 min69 min122 min92 min138 min57 min111 min94 min87 min89 min135 min136 min157 min68 min91 min94 min170 min97 min92 min136 min171 min44 min129 min48 min78 min90 min95 min87 min71 min107 min91 min89 min92 min83 min99 min110 min158 min82 min149 min96 min74 min53 min57 min96 min148 min89 min94 min129 min90 min77 min90 min78 min107 min158 min85 min49 min81 min86 min99 min95 min80 min118 min94 min96 min126 min105 min46 min89 min69 min74 min90 min100 min103 min76 min98 min114 min121 min130 min73 min81 min63 min89 min91 min124 min93 min93 min78 min95 min76 min46 min72 min105 min72 min95 min132 min111 min90 min91 min125 min101 min85 min58 min114 min75 min182 min100 min90 min40 min85 min89 min45 min100 min89 min88 min144 min107 min112 min111 min136 min133 min100 min87 min94 min157 min168 min95 min158 min90 min93 min51 min154 min91 min91 min95 min138 min152 min28 min101 min95 min94 min9 min94 min99 min99 min122 min94 min83 min97 min98 min84 min86 min149 min109 min104 min99 min88 min84 min61 min86 min100 min97 min104 min22 min80 min110 min81 min121 min104 min67 min95 min98 min94 min91 min8 min59 min63 min16 min85 min81 min3 min57 min155 min53 min97 min139 min60 min77 min85 min159 min108 min86 min145 min79 min35 min26 min121 min27 min72 min117 min91 min93 min94 min80 min95 min165 min92 min105 min91 min106 min74 min26 min111 min79 min125 min88 min79 min88 min66 min110 min123 min138 min94 min78 min182 min119 min49 min102 min131 min104 min67 min91 min40 min135 min110 min97 min111 min100 min83 min47 min101 min89 min86 min52 min95 min1 min80 min87 min116 min92 min117 min82 min82 min90 min85 min107 min90 min69 min61 min114 min103 min104 min105 min96 min85 min79 min78 min167 min91 min91 min43 min123 min76 min101 min94 min46 min58 min91 min70 min83 min83 min88 min83 min80 min119 min106 min95 min101 min130 min84 min92 min95 min84 min104 min93 min99 min141 min120 min80 min109 min91 min207 min70 min86 min120 min70 min93 min162 min94 min133 min123 min62 min93 min93 min139 min114 min95 min108 min127 min127 min159 min102 min96 min140 min57 min85 min125 min97 min154 min95 min117 min159 min94 min76 min110 min59 min131 min65 min94 min105 min100 min109 min84 min130 min92 min70 min101 min92 min73 min116 min81 min90 min100 min124 min103 min83 min106 min84 min141 min84 min72 min72 min22 min96 min93 min92 min113 min99 min65 min123 min112 min103 min144 min86 min104 min89 min128 min85 min120 min83 min103 min94 min44 min111 min101 min108 min129 min102 min24 min90 min88 min99 min100 min141 min93 min68 min107 min124 min123 min94 min86 min48 min162 min145 min95 min102 min92 min121 min93 min95 min104 min97 min150 min85 min150 min101 min109 min102 min106 min166 min91 min93 min143 min44 min91 min76 min113 min93 min93 min104 min109 min98 min91 min99 min88 min61 min61 min93 min144 min90 min95 min123 min86 min104 min54 min3 min104 min63 min91 min105 min91 min78 min83 min106 min93 min85 min70 min110 min66 min105 min85 min93 min89 min113 min82 min101 min113 min95 min80 min92 min108 min61 min89 min100 min81 min102 min82 min91 min102 min97 min88 min83 min125 min68 min94 min92 min102 min100 min131 min109 min92 min100 min125 min135 min158 min142 min98 min69 min119 min74 min93 min175 min99 min123 min134 min159 min117 min128 min114 min135 min93 min158 min141 min156 min154 min46 min116 min103 min96 min126 min171 min101 min106 min116 min149 min122 min61 min61 min72 min145 min50 min97 min132 min61 min78 min74 min109 min137 min107 min70 min136 min123 min90 min79 min61 min167 min83 min115 min97 min91 min105 min84 min60 min85 min48 min95 min84 min67 min98 min85 min75 min75 min99 min121 min65 min75 min60 min80 min134 min74 min77 min80 min71 min71 min78 min95 min94 min86 min73 min81 min89 min88 min96 min71 min78 min92 min90 min91 min87 min59 min122 min91 min46 min88 min84 min87 min115 min90 min85 min82 min92 min124 min122 min95 min77 min79 min102 min99 min78 min103 min36 min154 min135 min150 min128 min85 min137 min76 min83 min17 min50 min85 min133 min170 min150 min102 min87 min103 min133 min113 min88 min102 min75 min83 min82 min77 min111 min146 min95 min94 min149 min92 min70 min88 min77 min89 min80 min147 min135 min89 min87 min103 min111 min138 min47 min84 min126 min75 min71 min98 min176 min144 min111 min112 min95 min98 min126 min93 min111 min89 min93 min106 min119 min99 min95 min131 min96 min91 min130 min86 min115 min142 min131 min104 min111 min146 min119 min97 min156 min97 min90 min124 min118 min106 min104 min88 min112 min95 min95 min140 min136 min154 min150 min128 min135 min127 min121 min157 min125 min143 min154 min97 min156 min113 min102 min86 min96 min30 min107 min91 min105 min113 min83 min174 min174 min146 min77 min92 min98 min94 min91 min108 min83 min98 min85 min95 min86 min76 min193 min61 min108 min91 min88 min80 min62 min100 min90 min119 min79 min74 min169 min108 min72 min123 min54 min105 min86 min105 min100 min79 min53 min103 min83 min145 min108 min90 min84 min100 min104 min65 min86 min97 min90 min87 min89 min101 min105 min99 min16 min19 min115 min113 min96 min90 min86 min90 min96 min111 min18 min59 min117 min81 min120 min100 min128 min88 min97 min94 min86 min103 min80 min161 min161 min83 min89 min91 min100 min92 min74 min108 min74 min150 min107 min88 min96 min14 min85 min10 min63 min97 min91 min88 min140 min89 min90 min56 min100 min79 min67 min115 min100 min152 min149 min125 min72 min130 min60 min87 min90 min84 min98 min88 min85 min110 min82 min147 min105 min80 min134 min13 min121 min70 min540 min49 min107 min86 min103 min147 min138 min63 min81 min105 min92 min91 min97 min85 min76 min78 min60 min88 min37 min90 min60 min71 min90 min95 min83 min85 min81 min83 min68 min85 min91 min99 min102 min89 min100 min113 min86 min122 min88 min105 min76 min111 min127 min132 min99 min150 min90 min131 min112 min92 min84 min70 min95 min92 min95 min99 min105 min94 min104 min85 min109 min87 min153 min96 min102 min116 min40 min84 min93 min100 min74 min74 min94 min134 min69 min105 min109 min56 min73 min93 min89 min82 min90 min79 min83 min58 min94 min100 min87 min76 min152 min111 min85 min92 min94 min86 min128 min80 min101 min90 min102 min102 min135 min87 min117 min101 min127 min129 min132 min78 min100 min74 min103 min80 min85 min97 min96 min92 min100 min82 min81 min60 min88 min113 min89 min64 min98 min129 min96 min72 min103 min91 min89 min147 min105 min109 min89 min120 min93 min87 min91 min74 min90 min86 min84 min62 min88 min126 min74 min94 min82 min89 min79 min100 min119 min108 min67 min117 min75 min114 min76 min63 min85 min67 min114 min94 min147 min102 min103 min120 min98 min106 min109 min111 min89 min40 min40 min72 min47 min122 min119 min83 min91 min120 min89 min79 min120 min90 min122 min101 min115 min95 min128 min108 min89 min145 min40 min106 min123 min96 min122 min96 min87 min81 min89 min91 min142 min85 min121 min147 min95 min90 min88 min93 min118 min135 min129 min92 min103 min85 min51 min94 min55 min90 min73 min83 min144 min90 min119 min89 min112 min90 min113 min95 min82 min28 min101 min105 min88 min50 min110 min84 min94 min103 min93 min82 min143 min94 min168 min97 min96 min68 min77 min115 min92 min88 min87 min87 min130 min94 min104 min156 min140 min51 min93 min112 min112 min100 min101 min110 min93 min96 min83 min96 min104 min123 min78 min90 min59 min91 min65 min75 min111 min105 min81 min80 min87 min99 min91 min94 min125 min75 min91 min89 min87 min85 min127 min88 min97 min86 min96 min138 min122 min90 min129 min98 min76 min58 min88 min143 min138 min96 min80 min97 min77 min87 min87 min49 min25 min86 min48 min95 min116 min109 min122 min76 min90 min99 min94 min93 min93 min103 min106 min85 min58 min85 min103 min62 min57 min156 min126 min94 min81 min75 min87 min79 min89 min103 min74 min127 min131 min90 min106 min111 min99 min115 min129 min118 min136 min135 min95 min128 min124 min151 min144 min175 min62 min150 min133 min99 min89 min170 min119 min97 min135 min80 min98 min62 min77 min114 min176 min88 min92 min166 min123 min106 min103 min100 min84 min137 min73 min88 min92 min86 min109 min96 min86 min88 min91 min93 min112 min10 min97 min144 min102 min83 min62 min99 min62 min92 min98 min269 min98 min91 min101 min109 min96 min100 min76 min100 min105 min136 min89 min101 min148 min89 min103 min92 min82 min107 min104 min92 min87 min82 min137 min127 min88 min87 min103 min76 min155 min92 min80 min54 min92 min119 min106 min95 min93 min47 min90 min90 min92 min118 min92 min73 min120 min117 min94 min112 min103 min84 min91 min58 min95 min92 min84 min91 min109 min99 min41 min85 min43 min103 min81 min95 min91 min115 min120 min101 min89 min101 min109 min84 min94 min89 min87 min90 min81 min90 min115 min93 min98 min88 min104 min95 min90 min96 min99 min81 min87 min87 min93 min99 min81 min9 min113 min107 min92 min101 min151 min91 min7 min105 min92 min125 min82 min113 min95 min94 min34 min136 min111 min107 min93 min83 min118 min95 min102 min91 min96 min91 min119 min91 min94 min94 min83 min101 min110 min89 min95 min90 min100 min106 min94 min84 min105 min87 min112 min94 min107 min107 min100 min84 min93 min109 min87 min98 min87 min103 min120 min63 min89 min81 min90 min111 min83 min94 min100 min95 min125 min103 min90 min97 min93 min91 min75 min116 min159 min125 min89 min89 min88 min120 min78 min67 min79 min87 min122 min110 min110 min81 min83 min92 min96 min59 min105 min107 min67 min54 min97 min102 min132 min84 min78 min85 min96 min81 min87 min107 min107 min71 min105 min107 min75 min106 min99 min88 min79 min99 min150 min81 min136 min82 min91 min172 min136 min74 min91 min122 min92 min101 min98 min127 min84 min92 min71 min92 min97 min98 min129 min94 min73 min100 min81 min154 min53 min137 min110 min94 min87 min82 min92 min106 min48 min103 min120 min108 min89 min80 min100 min100 min92 min98 min94 min121 min85 min92 min81 min133 min95 min92 min69 min120 min104 min109 min112 min54 min103 min105 min85 min6 min86 min75 min92 min86 min88 min104 min127 min78 min127 min95 min58 min70 min99 min117 min96 min137 min79 min107 min91 min71 min79 min85 min85 min70 min89 min103 min97 min79 min127 min78 min87 min87 min121 min57 min89 min90 min121 min123 min83 min107 min126 min99 min79 min70 min97 min73 min100 min108 min135 min81 min59 min75 min118 min131 min59 min91 min102 min92 min97 min88 min96 min54 min87 min105 min94 min191 min95 min102 min83 min100 min93 min92 min63 min94 min14 min114 min88 min87 min93 min155 min110 min87 min90 min82 min108 min85 min74 min75 min92 min69 min49 min91 min97 min52 min142 min93 min101 min75 min59 min93 min23 min39 min94 min99 min78 min115 min105 min146 min95 min84 min116 min85 min84 min81 min125 min100 min133 min84 min70 min70 min140 min92 min18 min114 min101 min153 min73 min80 min120 min139 min142 min125 min133 min88 min93 min110 min88 min69 min118 min85 min106 min66 min94 min110 min153 min61 min61 min90 min115 min91 min26 min77 min89 min88 min135 min143 min44 min97 min85 min80 min101 min85 min110 min85 min86 min88 min90 min138 min93 min66 min106 min96 min84 min92 min92 min91 min80 min91 min93 min82 min30 min89 min80 min93 min87 min100 min41 min81 min98 min79 min105 min96 min82 min86 min92 min108 min86 min86 min92 min59 min105 min89 min30 min77 min120 min145 min115 min112 min100 min87 min0 min6 min115 min96 min140 min136 min97 min83 min97 min46 min97 min86 min88 min88 min121 min53 min43 min108 min113 min102 min97 min96 min108 min92 min137 min107 min88 min80 min102 min101 min92 min131 min75 min86 min92 min104 min155 min73 min151 min102 min92 min115 min48 min104 min122 min76 min74 min83 min87 min142 min91 min99 min84 min106 min75 min122 min104 min113 min91 min89 min86 min106 min108 min60 min72 min83 min90 min88 min88 min83 min104 min63 min134 min88 min105 min87 min73 min112 min92 min92 min74 min73 min105 min52 min57 min95 min94 min90 min99 min111 min89 min13 min87 min127 min96 min109 min84 min91 min88 min62 min103 min110 min122 min74 min90 min94 min107 min94 min91 min105 min76 min45 min115 min91 min90 min94 min91 min85 min105 min91 min84 min117 min86 min42 min90 min131 min120 min67 min108 min79 min93 min109 min93 min122 min87 min98 min119 min91 min85 min100 min52 min90 min54 min49 min73 min89 min93 min68 min132 min123 min147 min106 min61 min61 min61 min61 min70 min112 min43 min96 min115 min96 min83 min86 min100 min100 min78 min96 min88 min72 min88 min94 min87 min50 min90 min92 min9 min105 min98 min71 min86 min75 min87 min97 min153 min136 min149 min103 min61 min86 min116 min120 min100 min103 min152 min134 min86 min93 min96 min90 min8 min97 min88 min108 min101 min95 min110 min39 min102 min100 min93 min93 min103 min83 min69 min58 min188 min45 min81 min0 min92 min80 min96 min56 min84 min96 min120 min92 min122 min90 min99 min76 min100 min85 min32 min76 min99 min52 min67 min114 min112 min144 min98 min105 min83 min113 min91 min120 min106 min104 min88 min91 min35 min99 min83 min101 min81 min83 min95 min145 min90 min51 min113 min79 min89 min95 min85 min119 min98 min105 min110 min83 min84 min118 min92 min91 min95 min82 min125 min90 min76 min92 min94 min94 min90 min72 min53 min167 min136 min95 min56 min112 min102 min93 min155 min78 min89 min114 min157 min188 min94 min22 min87 min88 min118 min73 min91 min88 min82 min103 min92 min97 min127 min92 min92 min90 min93 min89 min78 min90 min93 min93 min90 min93 min90 min81 min93 min92 min91 min93 min94 min86 min77 min81 min91 min136 min88 min83 min89 min96 min87 min88 min89 min82 min96 min92 min84 min49 min6 min87 min117 min76 min104 min98 min108 min120 min85 min78 min113 min96 min83 min93 min83 min45 min33 min42 min77 min74 min56 min81 min121 min116 min74 min81 min92 min109 min44 min84 min91 min108 min96 min84 min100 min94 min91 min86 min163 min153 min92 min102 min105 min104 min145 min83 min120 min109 min95 min103 min81 min84 min113 min105 min41 min22 min108 min121 min92 min119 min101 min102 min111 min102 min106 min90 min89 min83 min96 min91 min89 min124 min102 min89 min81 min73 min89 min91 min91 min92 min91 min92 min92 min91 min121 min93 min93 min68 min80 min94 min124 min89 min94 min95 min115 min83 min106 min123 min56 min81 min90 min92 min96 min96 min80 min94 min118 min88 min100 min80 min89 min89 min105 min121 min57 min78 min91 min102 min94 min59 min109 min88 min16 min89 min92 min93 min86 min92 min94 min90 min79 min102 min90 min60 min84 min83 min110 min147 min99 min94 min152 min86 min105 min114 min99 min59 min131 min131 min117 min117 min82 min100 min91 min48 min25 min159 min106 min100 min80 min113 min95 min94 min124 min96 min154 min105 min96 min87 min59 min83 min102 min98 min81 min82 min109 min113 min120 min92 min45 min84 min103 min113 min110 min108 min92 min90 min76 min104 min125 min83 min78 min129 min129 min132 min47 min95 min75 min80 min45 min102 min87 min1 min139 min98 min92 min91 min123 min123 min117 min112 min110 min110 min80 min104 min108 min89 min32 min92 min88 min113 min100 min41 min93 min109 min87 min86 min135 min83 min101 min100 min74 min96 min123 min140 min42 min73 min98 min108 min153 min105 min105 min87 min118 min118 min65 min55 min135 min111 min102 min89 min130 min100 min94 min95 min145 min99 min90 min106 min88 min124 min84 min80 min88 min99 min99 min107 min88 min73 min103 min97 min50 min91 min75 min122 min96 min79 min102 min92 min49 min90 min130 min42 min99 min132 min123 min132 min108 min94 min80 min159 min100 min52 min161 min87 min127 min99 min105 min91 min92 min90 min85 min114 min109 min95 min85 min79 min86 min122 min102 min90 min90 min102 min95 min88 min89 min111 min92 min103 min64 min80 min91 min72 min109 min102 min89 min43 min97 min127 min84 min100 min85 min88 min85 min94 min69 min124 min124 min119 min26 min137 min22 min113 min131 min86 min105 min75 min111 min87 min82 min92 min85 min94 min128 min92 min80 min108 min99 min88 min82 min92 min91 min106 min98 min140 min88 min90 min86 min81 min161 min90 min90 min94 min118 min40 min82 min77 min99 min106 min102 min80 min95 min80 min84 min97 min88 min97 min101 min83 min89 min99 min109 min74 min139 min86 min91 min94 min133 min48 min93 min86 min113 min106 min89 min115 min84 min74 min98 min8 min62 min92 min99 min123 min59 min92 min100 min40 min61 min61 min53 min102 min138 min146 min101 min147 min76 min93 min95 min87 min84 min82 min104 min80 min50 min120 min106 min109 min80 min66 min151 min55 min90 min97 min89 min97 min78 min59 min105 min90 min75 min22 min73 min94 min143 min85 min121 min91 min92 min123 min77 min5 min5 min5 min5 min87 min119 min119 min128 min128 min98 min99 min81 min44 min83 min88 min10 min106 min106 min122 min92 min141 min99 min98 min96 min81 min84 min119 min95 min97 min130 min130 min31 min91 min133 min133 min82 min88 min99 min5 min10 min145 min104 min86 min93 min105 min10 min110 min103 min90 min165 min94 min87 min82 min97 min114 min87 min85 min119 min96 min95 min114 min90 min100 min114 min93 min91 min84 min82 min110 min87 min83 min97 min90 min98 min97 min82 min88 min94 min94 min88 min120 min76 min89 min101 min92 min116 min90 min88 min94 min80 min87 min101 min99 min124 min90 min87 min81 min54 min99 min102 min98 min98 min109 min151 min151 min151 min151 min85 min114 min139 min120 min49 min2 min85 min86 min116 min112 min103 min117 min96 min113 min32 min111 min102 min87 min135 min84 min87 min97 min96 min93 min60 min90 min103 min' to numeric",
      "\nThe above exception was the direct cause of the following exception:\n",
      "\u001b[0;31mTypeError\u001b[0m                                 Traceback (most recent call last)",
      "Cell \u001b[0;32mIn[284], line 1\u001b[0m\n\u001b[0;32m----> 1\u001b[0m resultados_groupby \u001b[38;5;241m=\u001b[39m \u001b[43mdf\u001b[49m\u001b[38;5;241;43m.\u001b[39;49m\u001b[43mgroupby\u001b[49m\u001b[43m(\u001b[49m\u001b[38;5;124;43m'\u001b[39;49m\u001b[38;5;124;43mtype\u001b[39;49m\u001b[38;5;124;43m'\u001b[39;49m\u001b[43m)\u001b[49m\u001b[43m[\u001b[49m\u001b[38;5;124;43m'\u001b[39;49m\u001b[38;5;124;43mduration\u001b[39;49m\u001b[38;5;124;43m'\u001b[39;49m\u001b[43m]\u001b[49m\u001b[38;5;241;43m.\u001b[39;49m\u001b[43mmean\u001b[49m\u001b[43m(\u001b[49m\u001b[43m)\u001b[49m\n\u001b[1;32m      2\u001b[0m resultados_groupby\n",
      "File \u001b[0;32m/opt/homebrew/lib/python3.11/site-packages/pandas/core/groupby/groupby.py:2374\u001b[0m, in \u001b[0;36mGroupBy.mean\u001b[0;34m(self, numeric_only, engine, engine_kwargs)\u001b[0m\n\u001b[1;32m   2367\u001b[0m     \u001b[38;5;28;01mreturn\u001b[39;00m \u001b[38;5;28mself\u001b[39m\u001b[38;5;241m.\u001b[39m_numba_agg_general(\n\u001b[1;32m   2368\u001b[0m         grouped_mean,\n\u001b[1;32m   2369\u001b[0m         executor\u001b[38;5;241m.\u001b[39mfloat_dtype_mapping,\n\u001b[1;32m   2370\u001b[0m         engine_kwargs,\n\u001b[1;32m   2371\u001b[0m         min_periods\u001b[38;5;241m=\u001b[39m\u001b[38;5;241m0\u001b[39m,\n\u001b[1;32m   2372\u001b[0m     )\n\u001b[1;32m   2373\u001b[0m \u001b[38;5;28;01melse\u001b[39;00m:\n\u001b[0;32m-> 2374\u001b[0m     result \u001b[38;5;241m=\u001b[39m \u001b[38;5;28;43mself\u001b[39;49m\u001b[38;5;241;43m.\u001b[39;49m\u001b[43m_cython_agg_general\u001b[49m\u001b[43m(\u001b[49m\n\u001b[1;32m   2375\u001b[0m \u001b[43m        \u001b[49m\u001b[38;5;124;43m\"\u001b[39;49m\u001b[38;5;124;43mmean\u001b[39;49m\u001b[38;5;124;43m\"\u001b[39;49m\u001b[43m,\u001b[49m\n\u001b[1;32m   2376\u001b[0m \u001b[43m        \u001b[49m\u001b[43malt\u001b[49m\u001b[38;5;241;43m=\u001b[39;49m\u001b[38;5;28;43;01mlambda\u001b[39;49;00m\u001b[43m \u001b[49m\u001b[43mx\u001b[49m\u001b[43m:\u001b[49m\u001b[43m \u001b[49m\u001b[43mSeries\u001b[49m\u001b[43m(\u001b[49m\u001b[43mx\u001b[49m\u001b[43m)\u001b[49m\u001b[38;5;241;43m.\u001b[39;49m\u001b[43mmean\u001b[49m\u001b[43m(\u001b[49m\u001b[43mnumeric_only\u001b[49m\u001b[38;5;241;43m=\u001b[39;49m\u001b[43mnumeric_only\u001b[49m\u001b[43m)\u001b[49m\u001b[43m,\u001b[49m\n\u001b[1;32m   2377\u001b[0m \u001b[43m        \u001b[49m\u001b[43mnumeric_only\u001b[49m\u001b[38;5;241;43m=\u001b[39;49m\u001b[43mnumeric_only\u001b[49m\u001b[43m,\u001b[49m\n\u001b[1;32m   2378\u001b[0m \u001b[43m    \u001b[49m\u001b[43m)\u001b[49m\n\u001b[1;32m   2379\u001b[0m     \u001b[38;5;28;01mreturn\u001b[39;00m result\u001b[38;5;241m.\u001b[39m__finalize__(\u001b[38;5;28mself\u001b[39m\u001b[38;5;241m.\u001b[39mobj, method\u001b[38;5;241m=\u001b[39m\u001b[38;5;124m\"\u001b[39m\u001b[38;5;124mgroupby\u001b[39m\u001b[38;5;124m\"\u001b[39m)\n",
      "File \u001b[0;32m/opt/homebrew/lib/python3.11/site-packages/pandas/core/groupby/groupby.py:1925\u001b[0m, in \u001b[0;36mGroupBy._cython_agg_general\u001b[0;34m(self, how, alt, numeric_only, min_count, **kwargs)\u001b[0m\n\u001b[1;32m   1922\u001b[0m     result \u001b[38;5;241m=\u001b[39m \u001b[38;5;28mself\u001b[39m\u001b[38;5;241m.\u001b[39m_agg_py_fallback(how, values, ndim\u001b[38;5;241m=\u001b[39mdata\u001b[38;5;241m.\u001b[39mndim, alt\u001b[38;5;241m=\u001b[39malt)\n\u001b[1;32m   1923\u001b[0m     \u001b[38;5;28;01mreturn\u001b[39;00m result\n\u001b[0;32m-> 1925\u001b[0m new_mgr \u001b[38;5;241m=\u001b[39m \u001b[43mdata\u001b[49m\u001b[38;5;241;43m.\u001b[39;49m\u001b[43mgrouped_reduce\u001b[49m\u001b[43m(\u001b[49m\u001b[43marray_func\u001b[49m\u001b[43m)\u001b[49m\n\u001b[1;32m   1926\u001b[0m res \u001b[38;5;241m=\u001b[39m \u001b[38;5;28mself\u001b[39m\u001b[38;5;241m.\u001b[39m_wrap_agged_manager(new_mgr)\n\u001b[1;32m   1927\u001b[0m out \u001b[38;5;241m=\u001b[39m \u001b[38;5;28mself\u001b[39m\u001b[38;5;241m.\u001b[39m_wrap_aggregated_output(res)\n",
      "File \u001b[0;32m/opt/homebrew/lib/python3.11/site-packages/pandas/core/internals/base.py:336\u001b[0m, in \u001b[0;36mSingleDataManager.grouped_reduce\u001b[0;34m(self, func)\u001b[0m\n\u001b[1;32m    334\u001b[0m \u001b[38;5;28;01mdef\u001b[39;00m \u001b[38;5;21mgrouped_reduce\u001b[39m(\u001b[38;5;28mself\u001b[39m, func):\n\u001b[1;32m    335\u001b[0m     arr \u001b[38;5;241m=\u001b[39m \u001b[38;5;28mself\u001b[39m\u001b[38;5;241m.\u001b[39marray\n\u001b[0;32m--> 336\u001b[0m     res \u001b[38;5;241m=\u001b[39m \u001b[43mfunc\u001b[49m\u001b[43m(\u001b[49m\u001b[43marr\u001b[49m\u001b[43m)\u001b[49m\n\u001b[1;32m    337\u001b[0m     index \u001b[38;5;241m=\u001b[39m default_index(\u001b[38;5;28mlen\u001b[39m(res))\n\u001b[1;32m    339\u001b[0m     mgr \u001b[38;5;241m=\u001b[39m \u001b[38;5;28mtype\u001b[39m(\u001b[38;5;28mself\u001b[39m)\u001b[38;5;241m.\u001b[39mfrom_array(res, index)\n",
      "File \u001b[0;32m/opt/homebrew/lib/python3.11/site-packages/pandas/core/groupby/groupby.py:1922\u001b[0m, in \u001b[0;36mGroupBy._cython_agg_general.<locals>.array_func\u001b[0;34m(values)\u001b[0m\n\u001b[1;32m   1919\u001b[0m \u001b[38;5;28;01melse\u001b[39;00m:\n\u001b[1;32m   1920\u001b[0m     \u001b[38;5;28;01mreturn\u001b[39;00m result\n\u001b[0;32m-> 1922\u001b[0m result \u001b[38;5;241m=\u001b[39m \u001b[38;5;28;43mself\u001b[39;49m\u001b[38;5;241;43m.\u001b[39;49m\u001b[43m_agg_py_fallback\u001b[49m\u001b[43m(\u001b[49m\u001b[43mhow\u001b[49m\u001b[43m,\u001b[49m\u001b[43m \u001b[49m\u001b[43mvalues\u001b[49m\u001b[43m,\u001b[49m\u001b[43m \u001b[49m\u001b[43mndim\u001b[49m\u001b[38;5;241;43m=\u001b[39;49m\u001b[43mdata\u001b[49m\u001b[38;5;241;43m.\u001b[39;49m\u001b[43mndim\u001b[49m\u001b[43m,\u001b[49m\u001b[43m \u001b[49m\u001b[43malt\u001b[49m\u001b[38;5;241;43m=\u001b[39;49m\u001b[43malt\u001b[49m\u001b[43m)\u001b[49m\n\u001b[1;32m   1923\u001b[0m \u001b[38;5;28;01mreturn\u001b[39;00m result\n",
      "File \u001b[0;32m/opt/homebrew/lib/python3.11/site-packages/pandas/core/groupby/groupby.py:1874\u001b[0m, in \u001b[0;36mGroupBy._agg_py_fallback\u001b[0;34m(self, how, values, ndim, alt)\u001b[0m\n\u001b[1;32m   1872\u001b[0m     msg \u001b[38;5;241m=\u001b[39m \u001b[38;5;124mf\u001b[39m\u001b[38;5;124m\"\u001b[39m\u001b[38;5;124magg function failed [how->\u001b[39m\u001b[38;5;132;01m{\u001b[39;00mhow\u001b[38;5;132;01m}\u001b[39;00m\u001b[38;5;124m,dtype->\u001b[39m\u001b[38;5;132;01m{\u001b[39;00mser\u001b[38;5;241m.\u001b[39mdtype\u001b[38;5;132;01m}\u001b[39;00m\u001b[38;5;124m]\u001b[39m\u001b[38;5;124m\"\u001b[39m\n\u001b[1;32m   1873\u001b[0m     \u001b[38;5;66;03m# preserve the kind of exception that raised\u001b[39;00m\n\u001b[0;32m-> 1874\u001b[0m     \u001b[38;5;28;01mraise\u001b[39;00m \u001b[38;5;28mtype\u001b[39m(err)(msg) \u001b[38;5;28;01mfrom\u001b[39;00m \u001b[38;5;21;01merr\u001b[39;00m\n\u001b[1;32m   1876\u001b[0m \u001b[38;5;28;01mif\u001b[39;00m ser\u001b[38;5;241m.\u001b[39mdtype \u001b[38;5;241m==\u001b[39m \u001b[38;5;28mobject\u001b[39m:\n\u001b[1;32m   1877\u001b[0m     res_values \u001b[38;5;241m=\u001b[39m res_values\u001b[38;5;241m.\u001b[39mastype(\u001b[38;5;28mobject\u001b[39m, copy\u001b[38;5;241m=\u001b[39m\u001b[38;5;28;01mFalse\u001b[39;00m)\n",
      "\u001b[0;31mTypeError\u001b[0m: agg function failed [how->mean,dtype->object]"
     ]
    }
   ],
   "source": [
    "resultados_groupby = df.groupby('type')['duration'].mean()\n",
    "resultados_groupby"
   ]
  }
 ],
 "metadata": {
  "kernelspec": {
   "display_name": "Python 3",
   "language": "python",
   "name": "python3"
  },
  "language_info": {
   "codemirror_mode": {
    "name": "ipython",
    "version": 3
   },
   "file_extension": ".py",
   "mimetype": "text/x-python",
   "name": "python",
   "nbconvert_exporter": "python",
   "pygments_lexer": "ipython3",
   "version": "3.11.6"
  }
 },
 "nbformat": 4,
 "nbformat_minor": 2
}
